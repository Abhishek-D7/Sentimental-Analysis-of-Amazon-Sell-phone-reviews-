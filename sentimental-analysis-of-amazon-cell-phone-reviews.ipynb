{
 "cells": [
  {
   "cell_type": "code",
   "execution_count": 1,
   "id": "2a1aef79",
   "metadata": {
    "execution": {
     "iopub.execute_input": "2024-03-27T08:22:19.587871Z",
     "iopub.status.busy": "2024-03-27T08:22:19.587506Z",
     "iopub.status.idle": "2024-03-27T08:22:20.518319Z",
     "shell.execute_reply": "2024-03-27T08:22:20.517123Z"
    },
    "papermill": {
     "duration": 0.962079,
     "end_time": "2024-03-27T08:22:20.521374",
     "exception": false,
     "start_time": "2024-03-27T08:22:19.559295",
     "status": "completed"
    },
    "tags": []
   },
   "outputs": [
    {
     "name": "stdout",
     "output_type": "stream",
     "text": [
      "/kaggle/input/amazon-cell-phones-reviews/20191226-items.csv\n",
      "/kaggle/input/amazon-cell-phones-reviews/20191226-reviews.csv\n"
     ]
    }
   ],
   "source": [
    "# This Python 3 environment comes with many helpful analytics libraries installed\n",
    "# It is defined by the kaggle/python Docker image: https://github.com/kaggle/docker-python\n",
    "# For example, here's several helpful packages to load\n",
    "\n",
    "import numpy as np # linear algebra\n",
    "import pandas as pd # data processing, CSV file I/O (e.g. pd.read_csv)\n",
    "\n",
    "# Input data files are available in the read-only \"../input/\" directory\n",
    "# For example, running this (by clicking run or pressing Shift+Enter) will list all files under the input directory\n",
    "\n",
    "import os\n",
    "for dirname, _, filenames in os.walk('/kaggle/input'):\n",
    "    for filename in filenames:\n",
    "        print(os.path.join(dirname, filename))\n",
    "\n",
    "# You can write up to 20GB to the current directory (/kaggle/working/) that gets preserved as output when you create a version using \"Save & Run All\" \n",
    "# You can also write temporary files to /kaggle/temp/, but they won't be saved outside of the current sessio"
   ]
  },
  {
   "cell_type": "code",
   "execution_count": 2,
   "id": "a6bcd905",
   "metadata": {
    "execution": {
     "iopub.execute_input": "2024-03-27T08:22:20.576816Z",
     "iopub.status.busy": "2024-03-27T08:22:20.576340Z",
     "iopub.status.idle": "2024-03-27T08:22:23.008360Z",
     "shell.execute_reply": "2024-03-27T08:22:23.007394Z"
    },
    "executionInfo": {
     "elapsed": 1067,
     "status": "ok",
     "timestamp": 1711474710395,
     "user": {
      "displayName": "Abhishek Dhaka",
      "userId": "12515851014154759358"
     },
     "user_tz": -330
    },
    "id": "HmcqCSvMniGQ",
    "papermill": {
     "duration": 2.462742,
     "end_time": "2024-03-27T08:22:23.011001",
     "exception": false,
     "start_time": "2024-03-27T08:22:20.548259",
     "status": "completed"
    },
    "tags": []
   },
   "outputs": [],
   "source": [
    "import pandas as pd\n",
    "import nltk\n",
    "import matplotlib.pyplot as plt\n",
    "import seaborn as sns\n",
    "\n",
    "plt.style.use('ggplot')"
   ]
  },
  {
   "cell_type": "code",
   "execution_count": 3,
   "id": "057c5612",
   "metadata": {
    "execution": {
     "iopub.execute_input": "2024-03-27T08:22:23.067367Z",
     "iopub.status.busy": "2024-03-27T08:22:23.066376Z",
     "iopub.status.idle": "2024-03-27T08:22:23.933038Z",
     "shell.execute_reply": "2024-03-27T08:22:23.931789Z"
    },
    "executionInfo": {
     "elapsed": 5161,
     "status": "ok",
     "timestamp": 1711474717030,
     "user": {
      "displayName": "Abhishek Dhaka",
      "userId": "12515851014154759358"
     },
     "user_tz": -330
    },
    "id": "ZH7hv8IDniDE",
    "outputId": "4347cf79-d83c-400e-b2c4-622a9479ed54",
    "papermill": {
     "duration": 0.897962,
     "end_time": "2024-03-27T08:22:23.935972",
     "exception": false,
     "start_time": "2024-03-27T08:22:23.038010",
     "status": "completed"
    },
    "tags": []
   },
   "outputs": [
    {
     "data": {
      "text/html": [
       "<div>\n",
       "<style scoped>\n",
       "    .dataframe tbody tr th:only-of-type {\n",
       "        vertical-align: middle;\n",
       "    }\n",
       "\n",
       "    .dataframe tbody tr th {\n",
       "        vertical-align: top;\n",
       "    }\n",
       "\n",
       "    .dataframe thead th {\n",
       "        text-align: right;\n",
       "    }\n",
       "</style>\n",
       "<table border=\"1\" class=\"dataframe\">\n",
       "  <thead>\n",
       "    <tr style=\"text-align: right;\">\n",
       "      <th></th>\n",
       "      <th>asin</th>\n",
       "      <th>name</th>\n",
       "      <th>rating</th>\n",
       "      <th>date</th>\n",
       "      <th>verified</th>\n",
       "      <th>title</th>\n",
       "      <th>body</th>\n",
       "      <th>helpfulVotes</th>\n",
       "    </tr>\n",
       "  </thead>\n",
       "  <tbody>\n",
       "    <tr>\n",
       "      <th>0</th>\n",
       "      <td>B0000SX2UC</td>\n",
       "      <td>Janet</td>\n",
       "      <td>3</td>\n",
       "      <td>October 11, 2005</td>\n",
       "      <td>False</td>\n",
       "      <td>Def not best, but not worst</td>\n",
       "      <td>I had the Samsung A600 for awhile which is abs...</td>\n",
       "      <td>1.0</td>\n",
       "    </tr>\n",
       "    <tr>\n",
       "      <th>1</th>\n",
       "      <td>B0000SX2UC</td>\n",
       "      <td>Luke Wyatt</td>\n",
       "      <td>1</td>\n",
       "      <td>January 7, 2004</td>\n",
       "      <td>False</td>\n",
       "      <td>Text Messaging Doesn't Work</td>\n",
       "      <td>Due to a software issue between Nokia and Spri...</td>\n",
       "      <td>17.0</td>\n",
       "    </tr>\n",
       "    <tr>\n",
       "      <th>2</th>\n",
       "      <td>B0000SX2UC</td>\n",
       "      <td>Brooke</td>\n",
       "      <td>5</td>\n",
       "      <td>December 30, 2003</td>\n",
       "      <td>False</td>\n",
       "      <td>Love This Phone</td>\n",
       "      <td>This is a great, reliable phone. I also purcha...</td>\n",
       "      <td>5.0</td>\n",
       "    </tr>\n",
       "    <tr>\n",
       "      <th>3</th>\n",
       "      <td>B0000SX2UC</td>\n",
       "      <td>amy m. teague</td>\n",
       "      <td>3</td>\n",
       "      <td>March 18, 2004</td>\n",
       "      <td>False</td>\n",
       "      <td>Love the Phone, BUT...!</td>\n",
       "      <td>I love the phone and all, because I really did...</td>\n",
       "      <td>1.0</td>\n",
       "    </tr>\n",
       "    <tr>\n",
       "      <th>4</th>\n",
       "      <td>B0000SX2UC</td>\n",
       "      <td>tristazbimmer</td>\n",
       "      <td>4</td>\n",
       "      <td>August 28, 2005</td>\n",
       "      <td>False</td>\n",
       "      <td>Great phone service and options, lousy case!</td>\n",
       "      <td>The phone has been great for every purpose it ...</td>\n",
       "      <td>1.0</td>\n",
       "    </tr>\n",
       "    <tr>\n",
       "      <th>...</th>\n",
       "      <td>...</td>\n",
       "      <td>...</td>\n",
       "      <td>...</td>\n",
       "      <td>...</td>\n",
       "      <td>...</td>\n",
       "      <td>...</td>\n",
       "      <td>...</td>\n",
       "      <td>...</td>\n",
       "    </tr>\n",
       "    <tr>\n",
       "      <th>67981</th>\n",
       "      <td>B081H6STQQ</td>\n",
       "      <td>jande</td>\n",
       "      <td>5</td>\n",
       "      <td>August 16, 2019</td>\n",
       "      <td>False</td>\n",
       "      <td>Awesome Phone, but finger scanner is a big mis...</td>\n",
       "      <td>I love the camera on this phone. The screen is...</td>\n",
       "      <td>1.0</td>\n",
       "    </tr>\n",
       "    <tr>\n",
       "      <th>67982</th>\n",
       "      <td>B081H6STQQ</td>\n",
       "      <td>2cool4u</td>\n",
       "      <td>5</td>\n",
       "      <td>September 14, 2019</td>\n",
       "      <td>False</td>\n",
       "      <td>Simply Amazing!</td>\n",
       "      <td>I've been an Xperia user for several years and...</td>\n",
       "      <td>1.0</td>\n",
       "    </tr>\n",
       "    <tr>\n",
       "      <th>67983</th>\n",
       "      <td>B081H6STQQ</td>\n",
       "      <td>simon</td>\n",
       "      <td>5</td>\n",
       "      <td>July 14, 2019</td>\n",
       "      <td>False</td>\n",
       "      <td>great phon3, but many bugs need to fix. still ...</td>\n",
       "      <td>buy one more for my cousin</td>\n",
       "      <td>NaN</td>\n",
       "    </tr>\n",
       "    <tr>\n",
       "      <th>67984</th>\n",
       "      <td>B081TJFVCJ</td>\n",
       "      <td>Tobiasz Jedrysiak</td>\n",
       "      <td>5</td>\n",
       "      <td>December 24, 2019</td>\n",
       "      <td>True</td>\n",
       "      <td>Phone is like new</td>\n",
       "      <td>Product looks and works like new. Very much re...</td>\n",
       "      <td>NaN</td>\n",
       "    </tr>\n",
       "    <tr>\n",
       "      <th>67985</th>\n",
       "      <td>B0825BB7SG</td>\n",
       "      <td>Owen Gonzalez</td>\n",
       "      <td>5</td>\n",
       "      <td>December 11, 2019</td>\n",
       "      <td>False</td>\n",
       "      <td>Outstanding phone for the price</td>\n",
       "      <td>I love the size and style of this phone. It is...</td>\n",
       "      <td>NaN</td>\n",
       "    </tr>\n",
       "  </tbody>\n",
       "</table>\n",
       "<p>67986 rows × 8 columns</p>\n",
       "</div>"
      ],
      "text/plain": [
       "             asin               name  rating                date  verified  \\\n",
       "0      B0000SX2UC              Janet       3    October 11, 2005     False   \n",
       "1      B0000SX2UC         Luke Wyatt       1     January 7, 2004     False   \n",
       "2      B0000SX2UC             Brooke       5   December 30, 2003     False   \n",
       "3      B0000SX2UC      amy m. teague       3      March 18, 2004     False   \n",
       "4      B0000SX2UC      tristazbimmer       4     August 28, 2005     False   \n",
       "...           ...                ...     ...                 ...       ...   \n",
       "67981  B081H6STQQ              jande       5     August 16, 2019     False   \n",
       "67982  B081H6STQQ            2cool4u       5  September 14, 2019     False   \n",
       "67983  B081H6STQQ              simon       5       July 14, 2019     False   \n",
       "67984  B081TJFVCJ  Tobiasz Jedrysiak       5   December 24, 2019      True   \n",
       "67985  B0825BB7SG      Owen Gonzalez       5   December 11, 2019     False   \n",
       "\n",
       "                                                   title  \\\n",
       "0                            Def not best, but not worst   \n",
       "1                            Text Messaging Doesn't Work   \n",
       "2                                        Love This Phone   \n",
       "3                                Love the Phone, BUT...!   \n",
       "4           Great phone service and options, lousy case!   \n",
       "...                                                  ...   \n",
       "67981  Awesome Phone, but finger scanner is a big mis...   \n",
       "67982                                    Simply Amazing!   \n",
       "67983  great phon3, but many bugs need to fix. still ...   \n",
       "67984                                  Phone is like new   \n",
       "67985                    Outstanding phone for the price   \n",
       "\n",
       "                                                    body  helpfulVotes  \n",
       "0      I had the Samsung A600 for awhile which is abs...           1.0  \n",
       "1      Due to a software issue between Nokia and Spri...          17.0  \n",
       "2      This is a great, reliable phone. I also purcha...           5.0  \n",
       "3      I love the phone and all, because I really did...           1.0  \n",
       "4      The phone has been great for every purpose it ...           1.0  \n",
       "...                                                  ...           ...  \n",
       "67981  I love the camera on this phone. The screen is...           1.0  \n",
       "67982  I've been an Xperia user for several years and...           1.0  \n",
       "67983                         buy one more for my cousin           NaN  \n",
       "67984  Product looks and works like new. Very much re...           NaN  \n",
       "67985  I love the size and style of this phone. It is...           NaN  \n",
       "\n",
       "[67986 rows x 8 columns]"
      ]
     },
     "execution_count": 3,
     "metadata": {},
     "output_type": "execute_result"
    }
   ],
   "source": [
    "df =pd.read_csv(\"/kaggle/input/amazon-cell-phones-reviews/20191226-reviews.csv\")\n",
    "df"
   ]
  },
  {
   "cell_type": "code",
   "execution_count": 4,
   "id": "941fecdb",
   "metadata": {
    "execution": {
     "iopub.execute_input": "2024-03-27T08:22:23.993491Z",
     "iopub.status.busy": "2024-03-27T08:22:23.993036Z",
     "iopub.status.idle": "2024-03-27T08:22:24.014797Z",
     "shell.execute_reply": "2024-03-27T08:22:24.013539Z"
    },
    "executionInfo": {
     "elapsed": 9238,
     "status": "ok",
     "timestamp": 1711474726263,
     "user": {
      "displayName": "Abhishek Dhaka",
      "userId": "12515851014154759358"
     },
     "user_tz": -330
    },
    "id": "qXsg1WDUxnNT",
    "outputId": "c0d924a8-323e-48ff-bd70-932f74b5edbd",
    "papermill": {
     "duration": 0.054077,
     "end_time": "2024-03-27T08:22:24.018286",
     "exception": false,
     "start_time": "2024-03-27T08:22:23.964209",
     "status": "completed"
    },
    "tags": []
   },
   "outputs": [
    {
     "data": {
      "text/html": [
       "<div>\n",
       "<style scoped>\n",
       "    .dataframe tbody tr th:only-of-type {\n",
       "        vertical-align: middle;\n",
       "    }\n",
       "\n",
       "    .dataframe tbody tr th {\n",
       "        vertical-align: top;\n",
       "    }\n",
       "\n",
       "    .dataframe thead th {\n",
       "        text-align: right;\n",
       "    }\n",
       "</style>\n",
       "<table border=\"1\" class=\"dataframe\">\n",
       "  <thead>\n",
       "    <tr style=\"text-align: right;\">\n",
       "      <th></th>\n",
       "      <th>asin</th>\n",
       "      <th>name</th>\n",
       "      <th>rating</th>\n",
       "      <th>date</th>\n",
       "      <th>verified</th>\n",
       "      <th>title</th>\n",
       "      <th>body</th>\n",
       "      <th>helpfulVotes</th>\n",
       "      <th>id</th>\n",
       "    </tr>\n",
       "  </thead>\n",
       "  <tbody>\n",
       "    <tr>\n",
       "      <th>0</th>\n",
       "      <td>B0000SX2UC</td>\n",
       "      <td>Janet</td>\n",
       "      <td>3</td>\n",
       "      <td>October 11, 2005</td>\n",
       "      <td>False</td>\n",
       "      <td>Def not best, but not worst</td>\n",
       "      <td>I had the Samsung A600 for awhile which is abs...</td>\n",
       "      <td>1.0</td>\n",
       "      <td>0</td>\n",
       "    </tr>\n",
       "    <tr>\n",
       "      <th>1</th>\n",
       "      <td>B0000SX2UC</td>\n",
       "      <td>Luke Wyatt</td>\n",
       "      <td>1</td>\n",
       "      <td>January 7, 2004</td>\n",
       "      <td>False</td>\n",
       "      <td>Text Messaging Doesn't Work</td>\n",
       "      <td>Due to a software issue between Nokia and Spri...</td>\n",
       "      <td>17.0</td>\n",
       "      <td>1</td>\n",
       "    </tr>\n",
       "    <tr>\n",
       "      <th>2</th>\n",
       "      <td>B0000SX2UC</td>\n",
       "      <td>Brooke</td>\n",
       "      <td>5</td>\n",
       "      <td>December 30, 2003</td>\n",
       "      <td>False</td>\n",
       "      <td>Love This Phone</td>\n",
       "      <td>This is a great, reliable phone. I also purcha...</td>\n",
       "      <td>5.0</td>\n",
       "      <td>2</td>\n",
       "    </tr>\n",
       "    <tr>\n",
       "      <th>3</th>\n",
       "      <td>B0000SX2UC</td>\n",
       "      <td>amy m. teague</td>\n",
       "      <td>3</td>\n",
       "      <td>March 18, 2004</td>\n",
       "      <td>False</td>\n",
       "      <td>Love the Phone, BUT...!</td>\n",
       "      <td>I love the phone and all, because I really did...</td>\n",
       "      <td>1.0</td>\n",
       "      <td>3</td>\n",
       "    </tr>\n",
       "    <tr>\n",
       "      <th>4</th>\n",
       "      <td>B0000SX2UC</td>\n",
       "      <td>tristazbimmer</td>\n",
       "      <td>4</td>\n",
       "      <td>August 28, 2005</td>\n",
       "      <td>False</td>\n",
       "      <td>Great phone service and options, lousy case!</td>\n",
       "      <td>The phone has been great for every purpose it ...</td>\n",
       "      <td>1.0</td>\n",
       "      <td>4</td>\n",
       "    </tr>\n",
       "    <tr>\n",
       "      <th>...</th>\n",
       "      <td>...</td>\n",
       "      <td>...</td>\n",
       "      <td>...</td>\n",
       "      <td>...</td>\n",
       "      <td>...</td>\n",
       "      <td>...</td>\n",
       "      <td>...</td>\n",
       "      <td>...</td>\n",
       "      <td>...</td>\n",
       "    </tr>\n",
       "    <tr>\n",
       "      <th>67981</th>\n",
       "      <td>B081H6STQQ</td>\n",
       "      <td>jande</td>\n",
       "      <td>5</td>\n",
       "      <td>August 16, 2019</td>\n",
       "      <td>False</td>\n",
       "      <td>Awesome Phone, but finger scanner is a big mis...</td>\n",
       "      <td>I love the camera on this phone. The screen is...</td>\n",
       "      <td>1.0</td>\n",
       "      <td>67981</td>\n",
       "    </tr>\n",
       "    <tr>\n",
       "      <th>67982</th>\n",
       "      <td>B081H6STQQ</td>\n",
       "      <td>2cool4u</td>\n",
       "      <td>5</td>\n",
       "      <td>September 14, 2019</td>\n",
       "      <td>False</td>\n",
       "      <td>Simply Amazing!</td>\n",
       "      <td>I've been an Xperia user for several years and...</td>\n",
       "      <td>1.0</td>\n",
       "      <td>67982</td>\n",
       "    </tr>\n",
       "    <tr>\n",
       "      <th>67983</th>\n",
       "      <td>B081H6STQQ</td>\n",
       "      <td>simon</td>\n",
       "      <td>5</td>\n",
       "      <td>July 14, 2019</td>\n",
       "      <td>False</td>\n",
       "      <td>great phon3, but many bugs need to fix. still ...</td>\n",
       "      <td>buy one more for my cousin</td>\n",
       "      <td>NaN</td>\n",
       "      <td>67983</td>\n",
       "    </tr>\n",
       "    <tr>\n",
       "      <th>67984</th>\n",
       "      <td>B081TJFVCJ</td>\n",
       "      <td>Tobiasz Jedrysiak</td>\n",
       "      <td>5</td>\n",
       "      <td>December 24, 2019</td>\n",
       "      <td>True</td>\n",
       "      <td>Phone is like new</td>\n",
       "      <td>Product looks and works like new. Very much re...</td>\n",
       "      <td>NaN</td>\n",
       "      <td>67984</td>\n",
       "    </tr>\n",
       "    <tr>\n",
       "      <th>67985</th>\n",
       "      <td>B0825BB7SG</td>\n",
       "      <td>Owen Gonzalez</td>\n",
       "      <td>5</td>\n",
       "      <td>December 11, 2019</td>\n",
       "      <td>False</td>\n",
       "      <td>Outstanding phone for the price</td>\n",
       "      <td>I love the size and style of this phone. It is...</td>\n",
       "      <td>NaN</td>\n",
       "      <td>67985</td>\n",
       "    </tr>\n",
       "  </tbody>\n",
       "</table>\n",
       "<p>67986 rows × 9 columns</p>\n",
       "</div>"
      ],
      "text/plain": [
       "             asin               name  rating                date  verified  \\\n",
       "0      B0000SX2UC              Janet       3    October 11, 2005     False   \n",
       "1      B0000SX2UC         Luke Wyatt       1     January 7, 2004     False   \n",
       "2      B0000SX2UC             Brooke       5   December 30, 2003     False   \n",
       "3      B0000SX2UC      amy m. teague       3      March 18, 2004     False   \n",
       "4      B0000SX2UC      tristazbimmer       4     August 28, 2005     False   \n",
       "...           ...                ...     ...                 ...       ...   \n",
       "67981  B081H6STQQ              jande       5     August 16, 2019     False   \n",
       "67982  B081H6STQQ            2cool4u       5  September 14, 2019     False   \n",
       "67983  B081H6STQQ              simon       5       July 14, 2019     False   \n",
       "67984  B081TJFVCJ  Tobiasz Jedrysiak       5   December 24, 2019      True   \n",
       "67985  B0825BB7SG      Owen Gonzalez       5   December 11, 2019     False   \n",
       "\n",
       "                                                   title  \\\n",
       "0                            Def not best, but not worst   \n",
       "1                            Text Messaging Doesn't Work   \n",
       "2                                        Love This Phone   \n",
       "3                                Love the Phone, BUT...!   \n",
       "4           Great phone service and options, lousy case!   \n",
       "...                                                  ...   \n",
       "67981  Awesome Phone, but finger scanner is a big mis...   \n",
       "67982                                    Simply Amazing!   \n",
       "67983  great phon3, but many bugs need to fix. still ...   \n",
       "67984                                  Phone is like new   \n",
       "67985                    Outstanding phone for the price   \n",
       "\n",
       "                                                    body  helpfulVotes     id  \n",
       "0      I had the Samsung A600 for awhile which is abs...           1.0      0  \n",
       "1      Due to a software issue between Nokia and Spri...          17.0      1  \n",
       "2      This is a great, reliable phone. I also purcha...           5.0      2  \n",
       "3      I love the phone and all, because I really did...           1.0      3  \n",
       "4      The phone has been great for every purpose it ...           1.0      4  \n",
       "...                                                  ...           ...    ...  \n",
       "67981  I love the camera on this phone. The screen is...           1.0  67981  \n",
       "67982  I've been an Xperia user for several years and...           1.0  67982  \n",
       "67983                         buy one more for my cousin           NaN  67983  \n",
       "67984  Product looks and works like new. Very much re...           NaN  67984  \n",
       "67985  I love the size and style of this phone. It is...           NaN  67985  \n",
       "\n",
       "[67986 rows x 9 columns]"
      ]
     },
     "execution_count": 4,
     "metadata": {},
     "output_type": "execute_result"
    }
   ],
   "source": [
    "df['id']=df.index\n",
    "df"
   ]
  },
  {
   "cell_type": "markdown",
   "id": "3ef29013",
   "metadata": {
    "id": "hggDJTLR2TrF",
    "papermill": {
     "duration": 0.027062,
     "end_time": "2024-03-27T08:22:24.072782",
     "exception": false,
     "start_time": "2024-03-27T08:22:24.045720",
     "status": "completed"
    },
    "tags": []
   },
   "source": [
    "**Due to low computional power ,taking only 2000 rows as for for sentimental analysis**"
   ]
  },
  {
   "cell_type": "code",
   "execution_count": 5,
   "id": "02b4a1e2",
   "metadata": {
    "execution": {
     "iopub.execute_input": "2024-03-27T08:22:24.129408Z",
     "iopub.status.busy": "2024-03-27T08:22:24.128957Z",
     "iopub.status.idle": "2024-03-27T08:22:24.134775Z",
     "shell.execute_reply": "2024-03-27T08:22:24.133976Z"
    },
    "executionInfo": {
     "elapsed": 2,
     "status": "ok",
     "timestamp": 1711474726263,
     "user": {
      "displayName": "Abhishek Dhaka",
      "userId": "12515851014154759358"
     },
     "user_tz": -330
    },
    "id": "x7UMU-IL0Qqx",
    "papermill": {
     "duration": 0.036586,
     "end_time": "2024-03-27T08:22:24.136986",
     "exception": false,
     "start_time": "2024-03-27T08:22:24.100400",
     "status": "completed"
    },
    "tags": []
   },
   "outputs": [],
   "source": [
    "df = df.head(2000)"
   ]
  },
  {
   "cell_type": "code",
   "execution_count": 6,
   "id": "2bfbb257",
   "metadata": {
    "execution": {
     "iopub.execute_input": "2024-03-27T08:22:24.194998Z",
     "iopub.status.busy": "2024-03-27T08:22:24.194589Z",
     "iopub.status.idle": "2024-03-27T08:22:24.201491Z",
     "shell.execute_reply": "2024-03-27T08:22:24.200393Z"
    },
    "executionInfo": {
     "elapsed": 7,
     "status": "ok",
     "timestamp": 1711474729628,
     "user": {
      "displayName": "Abhishek Dhaka",
      "userId": "12515851014154759358"
     },
     "user_tz": -330
    },
    "id": "hqOn3oNjniAr",
    "outputId": "d625bf4e-a04e-4efb-c8b9-eea19cd14f2e",
    "papermill": {
     "duration": 0.037965,
     "end_time": "2024-03-27T08:22:24.203817",
     "exception": false,
     "start_time": "2024-03-27T08:22:24.165852",
     "status": "completed"
    },
    "tags": []
   },
   "outputs": [
    {
     "data": {
      "text/plain": [
       "(2000, 9)"
      ]
     },
     "execution_count": 6,
     "metadata": {},
     "output_type": "execute_result"
    }
   ],
   "source": [
    "df.shape"
   ]
  },
  {
   "cell_type": "code",
   "execution_count": 7,
   "id": "d3731c1b",
   "metadata": {
    "execution": {
     "iopub.execute_input": "2024-03-27T08:22:24.260562Z",
     "iopub.status.busy": "2024-03-27T08:22:24.260146Z",
     "iopub.status.idle": "2024-03-27T08:22:24.545356Z",
     "shell.execute_reply": "2024-03-27T08:22:24.544121Z"
    },
    "executionInfo": {
     "elapsed": 1420,
     "status": "ok",
     "timestamp": 1711474731833,
     "user": {
      "displayName": "Abhishek Dhaka",
      "userId": "12515851014154759358"
     },
     "user_tz": -330
    },
    "id": "J0XS_hr-nh-G",
    "outputId": "51dc7fa7-3d15-45dc-bfee-bb9150365416",
    "papermill": {
     "duration": 0.316785,
     "end_time": "2024-03-27T08:22:24.547972",
     "exception": false,
     "start_time": "2024-03-27T08:22:24.231187",
     "status": "completed"
    },
    "tags": []
   },
   "outputs": [
    {
     "data": {
      "text/plain": [
       "<Axes: xlabel='rating', ylabel='count'>"
      ]
     },
     "execution_count": 7,
     "metadata": {},
     "output_type": "execute_result"
    },
    {
     "data": {
      "image/png": "[encoded data removed]",
      "text/plain": [
       "<Figure size 640x480 with 1 Axes>"
      ]
     },
     "metadata": {},
     "output_type": "display_data"
    }
   ],
   "source": [
    "sns.countplot(data = df , x='rating')"
   ]
  },
  {
   "cell_type": "code",
   "execution_count": 8,
   "id": "b4570d73",
   "metadata": {
    "execution": {
     "iopub.execute_input": "2024-03-27T08:22:24.607074Z",
     "iopub.status.busy": "2024-03-27T08:22:24.606688Z",
     "iopub.status.idle": "2024-03-27T08:22:24.859101Z",
     "shell.execute_reply": "2024-03-27T08:22:24.857921Z"
    },
    "executionInfo": {
     "elapsed": 12,
     "status": "ok",
     "timestamp": 1711474731834,
     "user": {
      "displayName": "Abhishek Dhaka",
      "userId": "12515851014154759358"
     },
     "user_tz": -330
    },
    "id": "4ElzyKa0nh7K",
    "outputId": "e934001e-3d2c-453e-b411-fe7bc067dcf4",
    "papermill": {
     "duration": 0.285008,
     "end_time": "2024-03-27T08:22:24.861811",
     "exception": false,
     "start_time": "2024-03-27T08:22:24.576803",
     "status": "completed"
    },
    "tags": []
   },
   "outputs": [
    {
     "data": {
      "text/plain": [
       "<Axes: xlabel='verified', ylabel='count'>"
      ]
     },
     "execution_count": 8,
     "metadata": {},
     "output_type": "execute_result"
    },
    {
     "data": {
      "image/png": "[encoded data removed]",
      "text/plain": [
       "<Figure size 640x480 with 1 Axes>"
      ]
     },
     "metadata": {},
     "output_type": "display_data"
    }
   ],
   "source": [
    "sns.countplot(data=df , x='verified')"
   ]
  },
  {
   "cell_type": "code",
   "execution_count": 9,
   "id": "1947e6d3",
   "metadata": {
    "execution": {
     "iopub.execute_input": "2024-03-27T08:22:24.921337Z",
     "iopub.status.busy": "2024-03-27T08:22:24.920316Z",
     "iopub.status.idle": "2024-03-27T08:22:24.927402Z",
     "shell.execute_reply": "2024-03-27T08:22:24.926309Z"
    },
    "executionInfo": {
     "elapsed": 6,
     "status": "ok",
     "timestamp": 1711474731834,
     "user": {
      "displayName": "Abhishek Dhaka",
      "userId": "12515851014154759358"
     },
     "user_tz": -330
    },
    "id": "8raAH5V-nh4e",
    "outputId": "0a334f67-b977-4e89-b7c3-f7a37c1fa034",
    "papermill": {
     "duration": 0.039224,
     "end_time": "2024-03-27T08:22:24.929666",
     "exception": false,
     "start_time": "2024-03-27T08:22:24.890442",
     "status": "completed"
    },
    "tags": []
   },
   "outputs": [
    {
     "data": {
      "text/plain": [
       "'This is not a \"boost\" phone and will not work as a GPS with Boost. Had to send it back. A huge pain for something that is $24. This is a rip-off.'"
      ]
     },
     "execution_count": 9,
     "metadata": {},
     "output_type": "execute_result"
    }
   ],
   "source": [
    "df1 = df['body'][50]\n",
    "df1"
   ]
  },
  {
   "cell_type": "code",
   "execution_count": 10,
   "id": "647799d0",
   "metadata": {
    "execution": {
     "iopub.execute_input": "2024-03-27T08:22:24.988872Z",
     "iopub.status.busy": "2024-03-27T08:22:24.988490Z",
     "iopub.status.idle": "2024-03-27T08:22:43.767805Z",
     "shell.execute_reply": "2024-03-27T08:22:43.766713Z"
    },
    "executionInfo": {
     "elapsed": 7542,
     "status": "ok",
     "timestamp": 1711474742470,
     "user": {
      "displayName": "Abhishek Dhaka",
      "userId": "12515851014154759358"
     },
     "user_tz": -330
    },
    "id": "q9g120VFmwCj",
    "papermill": {
     "duration": 18.812096,
     "end_time": "2024-03-27T08:22:43.770541",
     "exception": false,
     "start_time": "2024-03-27T08:22:24.958445",
     "status": "completed"
    },
    "tags": []
   },
   "outputs": [
    {
     "name": "stderr",
     "output_type": "stream",
     "text": [
      "2024-03-27 08:22:33.890000: E external/local_xla/xla/stream_executor/cuda/cuda_dnn.cc:9261] Unable to register cuDNN factory: Attempting to register factory for plugin cuDNN when one has already been registered\n",
      "2024-03-27 08:22:33.890139: E external/local_xla/xla/stream_executor/cuda/cuda_fft.cc:607] Unable to register cuFFT factory: Attempting to register factory for plugin cuFFT when one has already been registered\n",
      "2024-03-27 08:22:34.066113: E external/local_xla/xla/stream_executor/cuda/cuda_blas.cc:1515] Unable to register cuBLAS factory: Attempting to register factory for plugin cuBLAS when one has already been registered\n"
     ]
    }
   ],
   "source": [
    "from transformers import AutoModelForSequenceClassification\n",
    "from transformers import TFAutoModelForSequenceClassification\n",
    "from transformers import AutoTokenizer, AutoConfig\n",
    "import numpy as np\n",
    "from scipy.special import softmax\n",
    "import tensorflow as tf"
   ]
  },
  {
   "cell_type": "code",
   "execution_count": 11,
   "id": "e7dfe04d",
   "metadata": {
    "execution": {
     "iopub.execute_input": "2024-03-27T08:22:43.831641Z",
     "iopub.status.busy": "2024-03-27T08:22:43.830288Z",
     "iopub.status.idle": "2024-03-27T08:23:00.374785Z",
     "shell.execute_reply": "2024-03-27T08:23:00.373488Z"
    },
    "executionInfo": {
     "elapsed": 10027,
     "status": "ok",
     "timestamp": 1711474752481,
     "user": {
      "displayName": "Abhishek Dhaka",
      "userId": "12515851014154759358"
     },
     "user_tz": -330
    },
    "id": "RicobBSzmyy0",
    "outputId": "d77030c9-106b-4776-f852-81150ddb2c74",
    "papermill": {
     "duration": 16.57783,
     "end_time": "2024-03-27T08:23:00.377525",
     "exception": false,
     "start_time": "2024-03-27T08:22:43.799695",
     "status": "completed"
    },
    "tags": []
   },
   "outputs": [
    {
     "data": {
      "application/vnd.jupyter.widget-view+json": {
       "model_id": "f38fc5890fd944af8998e1bbfb4b090e",
       "version_major": 2,
       "version_minor": 0
      },
      "text/plain": [
       "config.json:   0%|          | 0.00/929 [00:00<?, ?B/s]"
      ]
     },
     "metadata": {},
     "output_type": "display_data"
    },
    {
     "data": {
      "application/vnd.jupyter.widget-view+json": {
       "model_id": "8cb8907735574c8285ce16c997242212",
       "version_major": 2,
       "version_minor": 0
      },
      "text/plain": [
       "vocab.json:   0%|          | 0.00/899k [00:00<?, ?B/s]"
      ]
     },
     "metadata": {},
     "output_type": "display_data"
    },
    {
     "data": {
      "application/vnd.jupyter.widget-view+json": {
       "model_id": "7e278c903d9d4725a045ee376843b8ac",
       "version_major": 2,
       "version_minor": 0
      },
      "text/plain": [
       "merges.txt:   0%|          | 0.00/456k [00:00<?, ?B/s]"
      ]
     },
     "metadata": {},
     "output_type": "display_data"
    },
    {
     "data": {
      "application/vnd.jupyter.widget-view+json": {
       "model_id": "d69a919d4dd943fc98dbfd112ed5db1d",
       "version_major": 2,
       "version_minor": 0
      },
      "text/plain": [
       "special_tokens_map.json:   0%|          | 0.00/239 [00:00<?, ?B/s]"
      ]
     },
     "metadata": {},
     "output_type": "display_data"
    },
    {
     "data": {
      "application/vnd.jupyter.widget-view+json": {
       "model_id": "53fa460aa3394c73ab0bc69f3e57598f",
       "version_major": 2,
       "version_minor": 0
      },
      "text/plain": [
       "pytorch_model.bin:   0%|          | 0.00/501M [00:00<?, ?B/s]"
      ]
     },
     "metadata": {},
     "output_type": "display_data"
    },
    {
     "name": "stderr",
     "output_type": "stream",
     "text": [
      "/opt/conda/lib/python3.10/site-packages/torch/_utils.py:831: UserWarning: TypedStorage is deprecated. It will be removed in the future and UntypedStorage will be the only storage class. This should only matter to you if you are using storages directly.  To access UntypedStorage directly, use tensor.untyped_storage() instead of tensor.storage()\n",
      "  return self.fget.__get__(instance, owner)()\n",
      "Some weights of the model checkpoint at cardiffnlp/twitter-roberta-base-sentiment-latest were not used when initializing RobertaForSequenceClassification: ['roberta.pooler.dense.bias', 'roberta.pooler.dense.weight']\n",
      "- This IS expected if you are initializing RobertaForSequenceClassification from the checkpoint of a model trained on another task or with another architecture (e.g. initializing a BertForSequenceClassification model from a BertForPreTraining model).\n",
      "- This IS NOT expected if you are initializing RobertaForSequenceClassification from the checkpoint of a model that you expect to be exactly identical (initializing a BertForSequenceClassification model from a BertForSequenceClassification model).\n"
     ]
    }
   ],
   "source": [
    "MODEL = f\"cardiffnlp/twitter-roberta-base-sentiment-latest\"\n",
    "tokenizer = AutoTokenizer.from_pretrained(MODEL)\n",
    "config = AutoConfig.from_pretrained(MODEL)\n",
    "# PT\n",
    "model = AutoModelForSequenceClassification.from_pretrained(MODEL)"
   ]
  },
  {
   "cell_type": "code",
   "execution_count": 12,
   "id": "4f77e619",
   "metadata": {
    "execution": {
     "iopub.execute_input": "2024-03-27T08:23:00.440229Z",
     "iopub.status.busy": "2024-03-27T08:23:00.439817Z",
     "iopub.status.idle": "2024-03-27T08:23:00.445234Z",
     "shell.execute_reply": "2024-03-27T08:23:00.443862Z"
    },
    "executionInfo": {
     "elapsed": 2,
     "status": "ok",
     "timestamp": 1711474752481,
     "user": {
      "displayName": "Abhishek Dhaka",
      "userId": "12515851014154759358"
     },
     "user_tz": -330
    },
    "id": "GQ6Hr0EDriA3",
    "papermill": {
     "duration": 0.039487,
     "end_time": "2024-03-27T08:23:00.447466",
     "exception": false,
     "start_time": "2024-03-27T08:23:00.407979",
     "status": "completed"
    },
    "tags": []
   },
   "outputs": [],
   "source": [
    "import torch"
   ]
  },
  {
   "cell_type": "code",
   "execution_count": 13,
   "id": "d4fa5af8",
   "metadata": {
    "execution": {
     "iopub.execute_input": "2024-03-27T08:23:00.509620Z",
     "iopub.status.busy": "2024-03-27T08:23:00.509239Z",
     "iopub.status.idle": "2024-03-27T08:23:00.516993Z",
     "shell.execute_reply": "2024-03-27T08:23:00.515840Z"
    },
    "executionInfo": {
     "elapsed": 775,
     "status": "ok",
     "timestamp": 1711474756453,
     "user": {
      "displayName": "Abhishek Dhaka",
      "userId": "12515851014154759358"
     },
     "user_tz": -330
    },
    "id": "MbzMLqLjs089",
    "outputId": "3200ebad-3768-4c42-afc9-d76c73077284",
    "papermill": {
     "duration": 0.042119,
     "end_time": "2024-03-27T08:23:00.519714",
     "exception": false,
     "start_time": "2024-03-27T08:23:00.477595",
     "status": "completed"
    },
    "tags": []
   },
   "outputs": [
    {
     "data": {
      "text/plain": [
       "'This is not a \"boost\" phone and will not work as a GPS with Boost. Had to send it back. A huge pain for something that is $24. This is a rip-off.'"
      ]
     },
     "execution_count": 13,
     "metadata": {},
     "output_type": "execute_result"
    }
   ],
   "source": [
    "df['body'][50]"
   ]
  },
  {
   "cell_type": "code",
   "execution_count": 14,
   "id": "a5d162c5",
   "metadata": {
    "execution": {
     "iopub.execute_input": "2024-03-27T08:23:00.582626Z",
     "iopub.status.busy": "2024-03-27T08:23:00.582250Z",
     "iopub.status.idle": "2024-03-27T08:23:00.792225Z",
     "shell.execute_reply": "2024-03-27T08:23:00.791341Z"
    },
    "executionInfo": {
     "elapsed": 852,
     "status": "ok",
     "timestamp": 1711474758357,
     "user": {
      "displayName": "Abhishek Dhaka",
      "userId": "12515851014154759358"
     },
     "user_tz": -330
    },
    "id": "h13LG23sm6bt",
    "outputId": "ecfa760a-ba8d-4e6b-ea85-5f88dfa034e9",
    "papermill": {
     "duration": 0.244713,
     "end_time": "2024-03-27T08:23:00.794963",
     "exception": false,
     "start_time": "2024-03-27T08:23:00.550250",
     "status": "completed"
    },
    "tags": []
   },
   "outputs": [
    {
     "name": "stdout",
     "output_type": "stream",
     "text": [
      "{'roberta_neg': 0.2865995, 'roberta_neu': 0.26771405, 'roberta_pos': 0.44568646}\n"
     ]
    }
   ],
   "source": [
    "text = \"I use hugging face , becouse it gets error every time and i love getting error!\"\n",
    "encoded_text = tokenizer(text, return_tensors='pt')\n",
    "output = model(**encoded_text)\n",
    "scores = output[0][0].detach().numpy()\n",
    "scores = softmax(scores)\n",
    "scores_dict = {\n",
    "    'roberta_neg' : scores[0],\n",
    "    'roberta_neu' : scores[1],\n",
    "    'roberta_pos' : scores[2]\n",
    "}\n",
    "print(scores_dict)"
   ]
  },
  {
   "cell_type": "code",
   "execution_count": 15,
   "id": "3c8ebc2a",
   "metadata": {
    "execution": {
     "iopub.execute_input": "2024-03-27T08:23:00.857897Z",
     "iopub.status.busy": "2024-03-27T08:23:00.857314Z",
     "iopub.status.idle": "2024-03-27T08:23:00.861977Z",
     "shell.execute_reply": "2024-03-27T08:23:00.861134Z"
    },
    "executionInfo": {
     "elapsed": 4,
     "status": "ok",
     "timestamp": 1711474758357,
     "user": {
      "displayName": "Abhishek Dhaka",
      "userId": "12515851014154759358"
     },
     "user_tz": -330
    },
    "id": "bTIywZqzz0yF",
    "papermill": {
     "duration": 0.038621,
     "end_time": "2024-03-27T08:23:00.864096",
     "exception": false,
     "start_time": "2024-03-27T08:23:00.825475",
     "status": "completed"
    },
    "tags": []
   },
   "outputs": [],
   "source": [
    "from tqdm.notebook import tqdm"
   ]
  },
  {
   "cell_type": "code",
   "execution_count": 16,
   "id": "8e143b3d",
   "metadata": {
    "execution": {
     "iopub.execute_input": "2024-03-27T08:23:00.927610Z",
     "iopub.status.busy": "2024-03-27T08:23:00.926723Z",
     "iopub.status.idle": "2024-03-27T08:23:00.932869Z",
     "shell.execute_reply": "2024-03-27T08:23:00.932032Z"
    },
    "executionInfo": {
     "elapsed": 3,
     "status": "ok",
     "timestamp": 1711474758357,
     "user": {
      "displayName": "Abhishek Dhaka",
      "userId": "12515851014154759358"
     },
     "user_tz": -330
    },
    "id": "mwVh6iWuy5Lr",
    "papermill": {
     "duration": 0.040636,
     "end_time": "2024-03-27T08:23:00.935090",
     "exception": false,
     "start_time": "2024-03-27T08:23:00.894454",
     "status": "completed"
    },
    "tags": []
   },
   "outputs": [],
   "source": [
    "def polarity_scores_roberta(example):\n",
    "    encoded_text = tokenizer(example, return_tensors='pt')\n",
    "    output = model(**encoded_text)\n",
    "    scores = output[0][0].detach().numpy()\n",
    "    scores = softmax(scores)\n",
    "    scores_dict = {\n",
    "        'roberta_neg' : scores[0],\n",
    "        'roberta_neu' : scores[1],\n",
    "        'roberta_pos' : scores[2]\n",
    "    }\n",
    "    return scores_dict"
   ]
  },
  {
   "cell_type": "markdown",
   "id": "7e8f53af",
   "metadata": {
    "id": "jWK4v3L-3t7m",
    "papermill": {
     "duration": 0.030903,
     "end_time": "2024-03-27T08:23:00.997142",
     "exception": false,
     "start_time": "2024-03-27T08:23:00.966239",
     "status": "completed"
    },
    "tags": []
   },
   "source": [
    "**Using a try and catch block for those reviews which have some special charater or something that can give error**"
   ]
  },
  {
   "cell_type": "code",
   "execution_count": 17,
   "id": "f92c543f",
   "metadata": {
    "execution": {
     "iopub.execute_input": "2024-03-27T08:23:01.060213Z",
     "iopub.status.busy": "2024-03-27T08:23:01.059523Z",
     "iopub.status.idle": "2024-03-27T08:28:20.333742Z",
     "shell.execute_reply": "2024-03-27T08:28:20.332556Z"
    },
    "executionInfo": {
     "elapsed": 430790,
     "status": "ok",
     "timestamp": 1711475190073,
     "user": {
      "displayName": "Abhishek Dhaka",
      "userId": "12515851014154759358"
     },
     "user_tz": -330
    },
    "id": "qcTmlPXEonNO",
    "outputId": "ccf139f3-f457-4ef9-b61b-0ea6d3f034e1",
    "papermill": {
     "duration": 319.308564,
     "end_time": "2024-03-27T08:28:20.336493",
     "exception": false,
     "start_time": "2024-03-27T08:23:01.027929",
     "status": "completed"
    },
    "tags": []
   },
   "outputs": [
    {
     "data": {
      "application/vnd.jupyter.widget-view+json": {
       "model_id": "24ffa76ce4af4c7e9022fd584cb969f3",
       "version_major": 2,
       "version_minor": 0
      },
      "text/plain": [
       "  0%|          | 0/2000 [00:00<?, ?it/s]"
      ]
     },
     "metadata": {},
     "output_type": "display_data"
    },
    {
     "name": "stdout",
     "output_type": "stream",
     "text": [
      "Broke for id 19\n",
      "Broke for id 40\n",
      "Broke for id 82\n",
      "Broke for id 84\n",
      "Broke for id 100\n",
      "Broke for id 145\n",
      "Broke for id 620\n",
      "Broke for id 666\n",
      "Broke for id 667\n",
      "Broke for id 828\n",
      "Broke for id 867\n",
      "Broke for id 984\n",
      "Broke for id 1027\n",
      "Broke for id 1028\n",
      "Broke for id 1172\n",
      "Broke for id 1175\n",
      "Broke for id 1178\n",
      "Broke for id 1343\n",
      "Broke for id 1345\n",
      "Broke for id 1350\n",
      "Broke for id 1366\n",
      "Broke for id 1399\n",
      "Broke for id 1430\n",
      "Broke for id 1501\n",
      "Broke for id 1529\n",
      "Broke for id 1577\n",
      "Broke for id 1578\n",
      "Broke for id 1730\n",
      "Broke for id 1970\n",
      "Broke for id 1971\n"
     ]
    }
   ],
   "source": [
    "res = {}\n",
    "for i, row in tqdm(df.iterrows(), total=len(df)):\n",
    "    try:\n",
    "        text = row['body']\n",
    "        myid = row['id']\n",
    "        roberta_result = polarity_scores_roberta(text)\n",
    "        res[myid] = roberta_result\n",
    "    except RuntimeError:\n",
    "        print(f'Broke for id {myid}')"
   ]
  },
  {
   "cell_type": "code",
   "execution_count": 18,
   "id": "d6c4b0a1",
   "metadata": {
    "execution": {
     "iopub.execute_input": "2024-03-27T08:28:20.405252Z",
     "iopub.status.busy": "2024-03-27T08:28:20.404461Z",
     "iopub.status.idle": "2024-03-27T08:28:20.511200Z",
     "shell.execute_reply": "2024-03-27T08:28:20.510023Z"
    },
    "executionInfo": {
     "elapsed": 792,
     "status": "ok",
     "timestamp": 1711475525702,
     "user": {
      "displayName": "Abhishek Dhaka",
      "userId": "12515851014154759358"
     },
     "user_tz": -330
    },
    "id": "yS9wBw3A4VRV",
    "outputId": "fe8e94c9-99ea-4ee0-888d-2d6d846b127b",
    "papermill": {
     "duration": 0.144176,
     "end_time": "2024-03-27T08:28:20.513700",
     "exception": false,
     "start_time": "2024-03-27T08:28:20.369524",
     "status": "completed"
    },
    "tags": []
   },
   "outputs": [
    {
     "data": {
      "text/html": [
       "<div>\n",
       "<style scoped>\n",
       "    .dataframe tbody tr th:only-of-type {\n",
       "        vertical-align: middle;\n",
       "    }\n",
       "\n",
       "    .dataframe tbody tr th {\n",
       "        vertical-align: top;\n",
       "    }\n",
       "\n",
       "    .dataframe thead th {\n",
       "        text-align: right;\n",
       "    }\n",
       "</style>\n",
       "<table border=\"1\" class=\"dataframe\">\n",
       "  <thead>\n",
       "    <tr style=\"text-align: right;\">\n",
       "      <th></th>\n",
       "      <th>id</th>\n",
       "      <th>roberta_neg</th>\n",
       "      <th>roberta_neu</th>\n",
       "      <th>roberta_pos</th>\n",
       "      <th>asin</th>\n",
       "      <th>name</th>\n",
       "      <th>rating</th>\n",
       "      <th>date</th>\n",
       "      <th>verified</th>\n",
       "      <th>title</th>\n",
       "      <th>body</th>\n",
       "      <th>helpfulVotes</th>\n",
       "    </tr>\n",
       "  </thead>\n",
       "  <tbody>\n",
       "    <tr>\n",
       "      <th>0</th>\n",
       "      <td>0</td>\n",
       "      <td>0.889011</td>\n",
       "      <td>0.096533</td>\n",
       "      <td>0.014456</td>\n",
       "      <td>B0000SX2UC</td>\n",
       "      <td>Janet</td>\n",
       "      <td>3</td>\n",
       "      <td>October 11, 2005</td>\n",
       "      <td>False</td>\n",
       "      <td>Def not best, but not worst</td>\n",
       "      <td>I had the Samsung A600 for awhile which is abs...</td>\n",
       "      <td>1.0</td>\n",
       "    </tr>\n",
       "    <tr>\n",
       "      <th>1</th>\n",
       "      <td>1</td>\n",
       "      <td>0.666823</td>\n",
       "      <td>0.307387</td>\n",
       "      <td>0.025790</td>\n",
       "      <td>B0000SX2UC</td>\n",
       "      <td>Luke Wyatt</td>\n",
       "      <td>1</td>\n",
       "      <td>January 7, 2004</td>\n",
       "      <td>False</td>\n",
       "      <td>Text Messaging Doesn't Work</td>\n",
       "      <td>Due to a software issue between Nokia and Spri...</td>\n",
       "      <td>17.0</td>\n",
       "    </tr>\n",
       "    <tr>\n",
       "      <th>2</th>\n",
       "      <td>2</td>\n",
       "      <td>0.049742</td>\n",
       "      <td>0.157302</td>\n",
       "      <td>0.792956</td>\n",
       "      <td>B0000SX2UC</td>\n",
       "      <td>Brooke</td>\n",
       "      <td>5</td>\n",
       "      <td>December 30, 2003</td>\n",
       "      <td>False</td>\n",
       "      <td>Love This Phone</td>\n",
       "      <td>This is a great, reliable phone. I also purcha...</td>\n",
       "      <td>5.0</td>\n",
       "    </tr>\n",
       "    <tr>\n",
       "      <th>3</th>\n",
       "      <td>3</td>\n",
       "      <td>0.064776</td>\n",
       "      <td>0.147354</td>\n",
       "      <td>0.787870</td>\n",
       "      <td>B0000SX2UC</td>\n",
       "      <td>amy m. teague</td>\n",
       "      <td>3</td>\n",
       "      <td>March 18, 2004</td>\n",
       "      <td>False</td>\n",
       "      <td>Love the Phone, BUT...!</td>\n",
       "      <td>I love the phone and all, because I really did...</td>\n",
       "      <td>1.0</td>\n",
       "    </tr>\n",
       "    <tr>\n",
       "      <th>4</th>\n",
       "      <td>4</td>\n",
       "      <td>0.142097</td>\n",
       "      <td>0.189636</td>\n",
       "      <td>0.668267</td>\n",
       "      <td>B0000SX2UC</td>\n",
       "      <td>tristazbimmer</td>\n",
       "      <td>4</td>\n",
       "      <td>August 28, 2005</td>\n",
       "      <td>False</td>\n",
       "      <td>Great phone service and options, lousy case!</td>\n",
       "      <td>The phone has been great for every purpose it ...</td>\n",
       "      <td>1.0</td>\n",
       "    </tr>\n",
       "    <tr>\n",
       "      <th>...</th>\n",
       "      <td>...</td>\n",
       "      <td>...</td>\n",
       "      <td>...</td>\n",
       "      <td>...</td>\n",
       "      <td>...</td>\n",
       "      <td>...</td>\n",
       "      <td>...</td>\n",
       "      <td>...</td>\n",
       "      <td>...</td>\n",
       "      <td>...</td>\n",
       "      <td>...</td>\n",
       "      <td>...</td>\n",
       "    </tr>\n",
       "    <tr>\n",
       "      <th>1965</th>\n",
       "      <td>1995</td>\n",
       "      <td>0.537915</td>\n",
       "      <td>0.197252</td>\n",
       "      <td>0.264833</td>\n",
       "      <td>B00727AODC</td>\n",
       "      <td>kuicho</td>\n",
       "      <td>3</td>\n",
       "      <td>June 2, 2013</td>\n",
       "      <td>True</td>\n",
       "      <td>Good but could be better</td>\n",
       "      <td>It is a good phone, and works good most of the...</td>\n",
       "      <td>1.0</td>\n",
       "    </tr>\n",
       "    <tr>\n",
       "      <th>1966</th>\n",
       "      <td>1996</td>\n",
       "      <td>0.660398</td>\n",
       "      <td>0.269246</td>\n",
       "      <td>0.070356</td>\n",
       "      <td>B00727AODC</td>\n",
       "      <td>HisGlory Majidah</td>\n",
       "      <td>3</td>\n",
       "      <td>December 31, 2013</td>\n",
       "      <td>True</td>\n",
       "      <td>couldnt get or receive pic msgs</td>\n",
       "      <td>I was disappointed. Surprised my husband n Bou...</td>\n",
       "      <td>NaN</td>\n",
       "    </tr>\n",
       "    <tr>\n",
       "      <th>1967</th>\n",
       "      <td>1997</td>\n",
       "      <td>0.019471</td>\n",
       "      <td>0.626327</td>\n",
       "      <td>0.354202</td>\n",
       "      <td>B00727AODC</td>\n",
       "      <td>Delbert</td>\n",
       "      <td>5</td>\n",
       "      <td>June 13, 2012</td>\n",
       "      <td>True</td>\n",
       "      <td>Un Gran Windows Phone 7 rápido y compacto</td>\n",
       "      <td>Use en su momento el Omnia 7 un teléfono del 2...</td>\n",
       "      <td>2.0</td>\n",
       "    </tr>\n",
       "    <tr>\n",
       "      <th>1968</th>\n",
       "      <td>1998</td>\n",
       "      <td>0.005479</td>\n",
       "      <td>0.027734</td>\n",
       "      <td>0.966787</td>\n",
       "      <td>B00727AODC</td>\n",
       "      <td>wilma wan</td>\n",
       "      <td>4</td>\n",
       "      <td>December 28, 2013</td>\n",
       "      <td>True</td>\n",
       "      <td>nice phone</td>\n",
       "      <td>This was a perfect Christmas present. I bought...</td>\n",
       "      <td>NaN</td>\n",
       "    </tr>\n",
       "    <tr>\n",
       "      <th>1969</th>\n",
       "      <td>1999</td>\n",
       "      <td>0.003961</td>\n",
       "      <td>0.009829</td>\n",
       "      <td>0.986210</td>\n",
       "      <td>B00727AODC</td>\n",
       "      <td>Anthony P</td>\n",
       "      <td>5</td>\n",
       "      <td>September 16, 2014</td>\n",
       "      <td>True</td>\n",
       "      <td>Great Looking and Fast...Very Pleased!!!</td>\n",
       "      <td>Simply love this little phone, I hope Samsung ...</td>\n",
       "      <td>NaN</td>\n",
       "    </tr>\n",
       "  </tbody>\n",
       "</table>\n",
       "<p>1970 rows × 12 columns</p>\n",
       "</div>"
      ],
      "text/plain": [
       "        id  roberta_neg  roberta_neu  roberta_pos        asin  \\\n",
       "0        0     0.889011     0.096533     0.014456  B0000SX2UC   \n",
       "1        1     0.666823     0.307387     0.025790  B0000SX2UC   \n",
       "2        2     0.049742     0.157302     0.792956  B0000SX2UC   \n",
       "3        3     0.064776     0.147354     0.787870  B0000SX2UC   \n",
       "4        4     0.142097     0.189636     0.668267  B0000SX2UC   \n",
       "...    ...          ...          ...          ...         ...   \n",
       "1965  1995     0.537915     0.197252     0.264833  B00727AODC   \n",
       "1966  1996     0.660398     0.269246     0.070356  B00727AODC   \n",
       "1967  1997     0.019471     0.626327     0.354202  B00727AODC   \n",
       "1968  1998     0.005479     0.027734     0.966787  B00727AODC   \n",
       "1969  1999     0.003961     0.009829     0.986210  B00727AODC   \n",
       "\n",
       "                  name  rating                date  verified  \\\n",
       "0                Janet       3    October 11, 2005     False   \n",
       "1           Luke Wyatt       1     January 7, 2004     False   \n",
       "2               Brooke       5   December 30, 2003     False   \n",
       "3        amy m. teague       3      March 18, 2004     False   \n",
       "4        tristazbimmer       4     August 28, 2005     False   \n",
       "...                ...     ...                 ...       ...   \n",
       "1965            kuicho       3        June 2, 2013      True   \n",
       "1966  HisGlory Majidah       3   December 31, 2013      True   \n",
       "1967           Delbert       5       June 13, 2012      True   \n",
       "1968         wilma wan       4   December 28, 2013      True   \n",
       "1969         Anthony P       5  September 16, 2014      True   \n",
       "\n",
       "                                             title  \\\n",
       "0                      Def not best, but not worst   \n",
       "1                      Text Messaging Doesn't Work   \n",
       "2                                  Love This Phone   \n",
       "3                          Love the Phone, BUT...!   \n",
       "4     Great phone service and options, lousy case!   \n",
       "...                                            ...   \n",
       "1965                      Good but could be better   \n",
       "1966               couldnt get or receive pic msgs   \n",
       "1967     Un Gran Windows Phone 7 rápido y compacto   \n",
       "1968                                    nice phone   \n",
       "1969      Great Looking and Fast...Very Pleased!!!   \n",
       "\n",
       "                                                   body  helpfulVotes  \n",
       "0     I had the Samsung A600 for awhile which is abs...           1.0  \n",
       "1     Due to a software issue between Nokia and Spri...          17.0  \n",
       "2     This is a great, reliable phone. I also purcha...           5.0  \n",
       "3     I love the phone and all, because I really did...           1.0  \n",
       "4     The phone has been great for every purpose it ...           1.0  \n",
       "...                                                 ...           ...  \n",
       "1965  It is a good phone, and works good most of the...           1.0  \n",
       "1966  I was disappointed. Surprised my husband n Bou...           NaN  \n",
       "1967  Use en su momento el Omnia 7 un teléfono del 2...           2.0  \n",
       "1968  This was a perfect Christmas present. I bought...           NaN  \n",
       "1969  Simply love this little phone, I hope Samsung ...           NaN  \n",
       "\n",
       "[1970 rows x 12 columns]"
      ]
     },
     "execution_count": 18,
     "metadata": {},
     "output_type": "execute_result"
    }
   ],
   "source": [
    "results_df = pd.DataFrame(res).T\n",
    "results_df = results_df.reset_index().rename(columns={'index': 'id'})\n",
    "results_df = results_df.merge(df, how='left')\n",
    "results_df\n"
   ]
  },
  {
   "cell_type": "code",
   "execution_count": 19,
   "id": "c28a8e76",
   "metadata": {
    "execution": {
     "iopub.execute_input": "2024-03-27T08:28:20.583160Z",
     "iopub.status.busy": "2024-03-27T08:28:20.582140Z",
     "iopub.status.idle": "2024-03-27T08:28:20.949592Z",
     "shell.execute_reply": "2024-03-27T08:28:20.948363Z"
    },
    "executionInfo": {
     "elapsed": 8,
     "status": "ok",
     "timestamp": 1711475888628,
     "user": {
      "displayName": "Abhishek Dhaka",
      "userId": "12515851014154759358"
     },
     "user_tz": -330
    },
    "id": "vsvMjg0r5LvI",
    "outputId": "f76509f9-2a15-444e-ee47-855d52a38f9e",
    "papermill": {
     "duration": 0.404882,
     "end_time": "2024-03-27T08:28:20.952203",
     "exception": false,
     "start_time": "2024-03-27T08:28:20.547321",
     "status": "completed"
    },
    "tags": []
   },
   "outputs": [
    {
     "data": {
      "image/png": "[encoded data removed]",
      "text/plain": [
       "<Figure size 640x480 with 1 Axes>"
      ]
     },
     "metadata": {},
     "output_type": "display_data"
    }
   ],
   "source": [
    "results_df['roberta_neu'].plot(kind='hist', bins=20, title='roberta_neu')\n",
    "plt.gca().spines[['top', 'right',]].set_visible(False)"
   ]
  },
  {
   "cell_type": "code",
   "execution_count": 20,
   "id": "bb187443",
   "metadata": {
    "execution": {
     "iopub.execute_input": "2024-03-27T08:28:21.022874Z",
     "iopub.status.busy": "2024-03-27T08:28:21.022490Z",
     "iopub.status.idle": "2024-03-27T08:28:21.367450Z",
     "shell.execute_reply": "2024-03-27T08:28:21.366117Z"
    },
    "executionInfo": {
     "elapsed": 3,
     "status": "ok",
     "timestamp": 1711475878277,
     "user": {
      "displayName": "Abhishek Dhaka",
      "userId": "12515851014154759358"
     },
     "user_tz": -330
    },
    "id": "Ni4vSZmz4zR_",
    "outputId": "18d8337f-21d5-45b9-a228-9e3b4e2dbd4c",
    "papermill": {
     "duration": 0.383445,
     "end_time": "2024-03-27T08:28:21.369942",
     "exception": false,
     "start_time": "2024-03-27T08:28:20.986497",
     "status": "completed"
    },
    "tags": []
   },
   "outputs": [
    {
     "data": {
      "image/png": "[encoded data removed]",
      "text/plain": [
       "<Figure size 640x480 with 1 Axes>"
      ]
     },
     "metadata": {},
     "output_type": "display_data"
    }
   ],
   "source": [
    "results_df['roberta_neg'].plot(kind='hist', bins=20, title='roberta_neg')\n",
    "plt.gca().spines[['top', 'right',]].set_visible(False)"
   ]
  },
  {
   "cell_type": "code",
   "execution_count": 21,
   "id": "ac250027",
   "metadata": {
    "execution": {
     "iopub.execute_input": "2024-03-27T08:28:21.440612Z",
     "iopub.status.busy": "2024-03-27T08:28:21.440195Z",
     "iopub.status.idle": "2024-03-27T08:28:21.787025Z",
     "shell.execute_reply": "2024-03-27T08:28:21.785877Z"
    },
    "executionInfo": {
     "elapsed": 22,
     "status": "ok",
     "timestamp": 1711475866597,
     "user": {
      "displayName": "Abhishek Dhaka",
      "userId": "12515851014154759358"
     },
     "user_tz": -330
    },
    "id": "eBrIRKTv5mId",
    "outputId": "98ccc4eb-d23a-45d3-c7ab-e143219b93f8",
    "papermill": {
     "duration": 0.385409,
     "end_time": "2024-03-27T08:28:21.789599",
     "exception": false,
     "start_time": "2024-03-27T08:28:21.404190",
     "status": "completed"
    },
    "tags": []
   },
   "outputs": [
    {
     "data": {
      "image/png": "[encoded data removed]",
      "text/plain": [
       "<Figure size 640x480 with 1 Axes>"
      ]
     },
     "metadata": {},
     "output_type": "display_data"
    }
   ],
   "source": [
    "results_df['roberta_pos'].plot(kind='hist', bins=20, title='roberta_pos')\n",
    "plt.gca().spines[['top', 'right',]].set_visible(False)"
   ]
  },
  {
   "cell_type": "code",
   "execution_count": 22,
   "id": "3acee748",
   "metadata": {
    "execution": {
     "iopub.execute_input": "2024-03-27T08:28:21.861030Z",
     "iopub.status.busy": "2024-03-27T08:28:21.860659Z",
     "iopub.status.idle": "2024-03-27T08:28:22.179444Z",
     "shell.execute_reply": "2024-03-27T08:28:22.178237Z"
    },
    "papermill": {
     "duration": 0.357404,
     "end_time": "2024-03-27T08:28:22.182097",
     "exception": false,
     "start_time": "2024-03-27T08:28:21.824693",
     "status": "completed"
    },
    "tags": []
   },
   "outputs": [
    {
     "data": {
      "image/png": "[encoded data removed]",
      "text/plain": [
       "<Figure size 640x480 with 1 Axes>"
      ]
     },
     "metadata": {},
     "output_type": "display_data"
    }
   ],
   "source": [
    "results_df.plot(kind='scatter', x='roberta_neg', y='roberta_neu', s=32, alpha=.8)\n",
    "plt.gca().spines[['top', 'right',]].set_visible(False)"
   ]
  },
  {
   "cell_type": "code",
   "execution_count": 23,
   "id": "c9186952",
   "metadata": {
    "execution": {
     "iopub.execute_input": "2024-03-27T08:28:22.256000Z",
     "iopub.status.busy": "2024-03-27T08:28:22.255607Z",
     "iopub.status.idle": "2024-03-27T08:28:22.559371Z",
     "shell.execute_reply": "2024-03-27T08:28:22.558559Z"
    },
    "papermill": {
     "duration": 0.34405,
     "end_time": "2024-03-27T08:28:22.561815",
     "exception": false,
     "start_time": "2024-03-27T08:28:22.217765",
     "status": "completed"
    },
    "tags": []
   },
   "outputs": [
    {
     "data": {
      "image/png": "[encoded data removed]",
      "text/plain": [
       "<Figure size 640x480 with 1 Axes>"
      ]
     },
     "metadata": {},
     "output_type": "display_data"
    }
   ],
   "source": [
    "results_df.plot(kind='scatter', x='roberta_pos', y='roberta_neu', s=32, alpha=.8)\n",
    "plt.gca().spines[['top', 'right',]].set_visible(False)"
   ]
  },
  {
   "cell_type": "code",
   "execution_count": 24,
   "id": "b23a97e3",
   "metadata": {
    "execution": {
     "iopub.execute_input": "2024-03-27T08:28:22.639014Z",
     "iopub.status.busy": "2024-03-27T08:28:22.638038Z",
     "iopub.status.idle": "2024-03-27T08:28:22.940733Z",
     "shell.execute_reply": "2024-03-27T08:28:22.939630Z"
    },
    "papermill": {
     "duration": 0.343994,
     "end_time": "2024-03-27T08:28:22.942975",
     "exception": false,
     "start_time": "2024-03-27T08:28:22.598981",
     "status": "completed"
    },
    "tags": []
   },
   "outputs": [
    {
     "data": {
      "image/png": "[encoded data removed]",
      "text/plain": [
       "<Figure size 640x480 with 1 Axes>"
      ]
     },
     "metadata": {},
     "output_type": "display_data"
    }
   ],
   "source": [
    "results_df.plot(kind='scatter', x='roberta_neg', y='roberta_pos', s=32, alpha=.8)\n",
    "plt.gca().spines[['top', 'right',]].set_visible(False)"
   ]
  },
  {
   "cell_type": "code",
   "execution_count": 25,
   "id": "1de861c4",
   "metadata": {
    "execution": {
     "iopub.execute_input": "2024-03-27T08:28:23.021925Z",
     "iopub.status.busy": "2024-03-27T08:28:23.021496Z",
     "iopub.status.idle": "2024-03-27T08:28:23.084759Z",
     "shell.execute_reply": "2024-03-27T08:28:23.083596Z"
    },
    "executionInfo": {
     "elapsed": 2,
     "status": "ok",
     "timestamp": 1711476875162,
     "user": {
      "displayName": "Abhishek Dhaka",
      "userId": "12515851014154759358"
     },
     "user_tz": -330
    },
    "id": "Zhi1igwA8YDG",
    "papermill": {
     "duration": 0.106015,
     "end_time": "2024-03-27T08:28:23.087449",
     "exception": false,
     "start_time": "2024-03-27T08:28:22.981434",
     "status": "completed"
    },
    "tags": []
   },
   "outputs": [],
   "source": [
    "results_df.to_csv('Sentimental_df.csv', index=True)"
   ]
  }
 ],
 "metadata": {
  "accelerator": "GPU",
  "colab": {
   "authorship_tag": "ABX9TyNqAgz7d3Mt98rapzP1EtIR",
   "gpuType": "T4",
   "provenance": []
  },
  "kaggle": {
   "accelerator": "none",
   "dataSources": [
    {
     "datasetId": 363619,
     "sourceId": 861634,
     "sourceType": "datasetVersion"
    }
   ],
   "dockerImageVersionId": 30673,
   "isGpuEnabled": false,
   "isInternetEnabled": true,
   "language": "python",
   "sourceType": "notebook"
  },
  "kernelspec": {
   "display_name": "Python 3",
   "language": "python",
   "name": "python3"
  },
  "language_info": {
   "codemirror_mode": {
    "name": "ipython",
    "version": 3
   },
   "file_extension": ".py",
   "mimetype": "text/x-python",
   "name": "python",
   "nbconvert_exporter": "python",
   "pygments_lexer": "ipython3",
   "version": "3.10.13"
  },
  "papermill": {
   "default_parameters": {},
   "duration": 369.318925,
   "end_time": "2024-03-27T08:28:25.868347",
   "environment_variables": {},
   "exception": null,
   "input_path": "__notebook__.ipynb",
   "output_path": "__notebook__.ipynb",
   "parameters": {},
   "start_time": "2024-03-27T08:22:16.549422",
   "version": "2.5.0"
  },
  "widgets": {
   "application/vnd.jupyter.widget-state+json": {
    "state": {
     "0318cd985485419f9f82a6829fb96a00": {
      "model_module": "@jupyter-widgets/controls",
      "model_module_version": "1.5.0",
      "model_name": "DescriptionStyleModel",
      "state": {
       "_model_module": "@jupyter-widgets/controls",
       "_model_module_version": "1.5.0",
       "_model_name": "DescriptionStyleModel",
       "_view_count": null,
       "_view_module": "@jupyter-widgets/base",
       "_view_module_version": "1.2.0",
       "_view_name": "StyleView",
       "description_width": ""
      }
     },
     "042b91a721f6468b897a8c2bcba80cbd": {
      "model_module": "@jupyter-widgets/base",
      "model_module_version": "1.2.0",
      "model_name": "LayoutModel",
      "state": {
       "_model_module": "@jupyter-widgets/base",
       "_model_module_version": "1.2.0",
       "_model_name": "LayoutModel",
       "_view_count": null,
       "_view_module": "@jupyter-widgets/base",
       "_view_module_version": "1.2.0",
       "_view_name": "LayoutView",
       "align_content": null,
       "align_items": null,
       "align_self": null,
       "border": null,
       "bottom": null,
       "display": null,
       "flex": null,
       "flex_flow": null,
       "grid_area": null,
       "grid_auto_columns": null,
       "grid_auto_flow": null,
       "grid_auto_rows": null,
       "grid_column": null,
       "grid_gap": null,
       "grid_row": null,
       "grid_template_areas": null,
       "grid_template_columns": null,
       "grid_template_rows": null,
       "height": null,
       "justify_content": null,
       "justify_items": null,
       "left": null,
       "margin": null,
       "max_height": null,
       "max_width": null,
       "min_height": null,
       "min_width": null,
       "object_fit": null,
       "object_position": null,
       "order": null,
       "overflow": null,
       "overflow_x": null,
       "overflow_y": null,
       "padding": null,
       "right": null,
       "top": null,
       "visibility": null,
       "width": null
      }
     },
     "0d7f2dd0fac84d78a98582e145a50c0c": {
      "model_module": "@jupyter-widgets/base",
      "model_module_version": "1.2.0",
      "model_name": "LayoutModel",
      "state": {
       "_model_module": "@jupyter-widgets/base",
       "_model_module_version": "1.2.0",
       "_model_name": "LayoutModel",
       "_view_count": null,
       "_view_module": "@jupyter-widgets/base",
       "_view_module_version": "1.2.0",
       "_view_name": "LayoutView",
       "align_content": null,
       "align_items": null,
       "align_self": null,
       "border": null,
       "bottom": null,
       "display": null,
       "flex": null,
       "flex_flow": null,
       "grid_area": null,
       "grid_auto_columns": null,
       "grid_auto_flow": null,
       "grid_auto_rows": null,
       "grid_column": null,
       "grid_gap": null,
       "grid_row": null,
       "grid_template_areas": null,
       "grid_template_columns": null,
       "grid_template_rows": null,
       "height": null,
       "justify_content": null,
       "justify_items": null,
       "left": null,
       "margin": null,
       "max_height": null,
       "max_width": null,
       "min_height": null,
       "min_width": null,
       "object_fit": null,
       "object_position": null,
       "order": null,
       "overflow": null,
       "overflow_x": null,
       "overflow_y": null,
       "padding": null,
       "right": null,
       "top": null,
       "visibility": null,
       "width": null
      }
     },
     "0ed4b93b4e7b4de984f32a555451c854": {
      "model_module": "@jupyter-widgets/controls",
      "model_module_version": "1.5.0",
      "model_name": "HTMLModel",
      "state": {
       "_dom_classes": [],
       "_model_module": "@jupyter-widgets/controls",
       "_model_module_version": "1.5.0",
       "_model_name": "HTMLModel",
       "_view_count": null,
       "_view_module": "@jupyter-widgets/controls",
       "_view_module_version": "1.5.0",
       "_view_name": "HTMLView",
       "description": "",
       "description_tooltip": null,
       "layout": "IPY_MODEL_612ebc898cc04586bb36185a95d89d21",
       "placeholder": "​",
       "style": "IPY_MODEL_6f74c9970d5245cabf29e62fad72ecc3",
       "value": "special_tokens_map.json: 100%"
      }
     },
     "110dfeb3e8b44a79b4150d7adc2d942c": {
      "model_module": "@jupyter-widgets/controls",
      "model_module_version": "1.5.0",
      "model_name": "DescriptionStyleModel",
      "state": {
       "_model_module": "@jupyter-widgets/controls",
       "_model_module_version": "1.5.0",
       "_model_name": "DescriptionStyleModel",
       "_view_count": null,
       "_view_module": "@jupyter-widgets/base",
       "_view_module_version": "1.2.0",
       "_view_name": "StyleView",
       "description_width": ""
      }
     },
     "1271c15b844e4330a204c3c2d468f0f8": {
      "model_module": "@jupyter-widgets/controls",
      "model_module_version": "1.5.0",
      "model_name": "HTMLModel",
      "state": {
       "_dom_classes": [],
       "_model_module": "@jupyter-widgets/controls",
       "_model_module_version": "1.5.0",
       "_model_name": "HTMLModel",
       "_view_count": null,
       "_view_module": "@jupyter-widgets/controls",
       "_view_module_version": "1.5.0",
       "_view_name": "HTMLView",
       "description": "",
       "description_tooltip": null,
       "layout": "IPY_MODEL_ffbfdcd6d31e479ba87099842785945f",
       "placeholder": "​",
       "style": "IPY_MODEL_f1e7d9cf824d484eba2064beca868de6",
       "value": " 239/239 [00:00&lt;00:00, 17.2kB/s]"
      }
     },
     "182f675a00234d79be111ec16b53d66f": {
      "model_module": "@jupyter-widgets/controls",
      "model_module_version": "1.5.0",
      "model_name": "DescriptionStyleModel",
      "state": {
       "_model_module": "@jupyter-widgets/controls",
       "_model_module_version": "1.5.0",
       "_model_name": "DescriptionStyleModel",
       "_view_count": null,
       "_view_module": "@jupyter-widgets/base",
       "_view_module_version": "1.2.0",
       "_view_name": "StyleView",
       "description_width": ""
      }
     },
     "1fb991b7a0b34099ac3ee8b8178b0513": {
      "model_module": "@jupyter-widgets/base",
      "model_module_version": "1.2.0",
      "model_name": "LayoutModel",
      "state": {
       "_model_module": "@jupyter-widgets/base",
       "_model_module_version": "1.2.0",
       "_model_name": "LayoutModel",
       "_view_count": null,
       "_view_module": "@jupyter-widgets/base",
       "_view_module_version": "1.2.0",
       "_view_name": "LayoutView",
       "align_content": null,
       "align_items": null,
       "align_self": null,
       "border": null,
       "bottom": null,
       "display": null,
       "flex": null,
       "flex_flow": null,
       "grid_area": null,
       "grid_auto_columns": null,
       "grid_auto_flow": null,
       "grid_auto_rows": null,
       "grid_column": null,
       "grid_gap": null,
       "grid_row": null,
       "grid_template_areas": null,
       "grid_template_columns": null,
       "grid_template_rows": null,
       "height": null,
       "justify_content": null,
       "justify_items": null,
       "left": null,
       "margin": null,
       "max_height": null,
       "max_width": null,
       "min_height": null,
       "min_width": null,
       "object_fit": null,
       "object_position": null,
       "order": null,
       "overflow": null,
       "overflow_x": null,
       "overflow_y": null,
       "padding": null,
       "right": null,
       "top": null,
       "visibility": null,
       "width": null
      }
     },
     "24ffa76ce4af4c7e9022fd584cb969f3": {
      "model_module": "@jupyter-widgets/controls",
      "model_module_version": "1.5.0",
      "model_name": "HBoxModel",
      "state": {
       "_dom_classes": [],
       "_model_module": "@jupyter-widgets/controls",
       "_model_module_version": "1.5.0",
       "_model_name": "HBoxModel",
       "_view_count": null,
       "_view_module": "@jupyter-widgets/controls",
       "_view_module_version": "1.5.0",
       "_view_name": "HBoxView",
       "box_style": "",
       "children": [
        "IPY_MODEL_a605c9b65f254656b56dcd9de9f96ba4",
        "IPY_MODEL_86e8799d566e4c69a94bd5d7c5972e9f",
        "IPY_MODEL_361cef2b0bfd493cb22004aa3c7ab11a"
       ],
       "layout": "IPY_MODEL_6e0bf0b465ad431cae8513bcb2c3348a"
      }
     },
     "2bf2e647ba6548988eef52db53ab55c7": {
      "model_module": "@jupyter-widgets/controls",
      "model_module_version": "1.5.0",
      "model_name": "FloatProgressModel",
      "state": {
       "_dom_classes": [],
       "_model_module": "@jupyter-widgets/controls",
       "_model_module_version": "1.5.0",
       "_model_name": "FloatProgressModel",
       "_view_count": null,
       "_view_module": "@jupyter-widgets/controls",
       "_view_module_version": "1.5.0",
       "_view_name": "ProgressView",
       "bar_style": "success",
       "description": "",
       "description_tooltip": null,
       "layout": "IPY_MODEL_ea4e35a626904d8088fc10e9526a8890",
       "max": 929.0,
       "min": 0.0,
       "orientation": "horizontal",
       "style": "IPY_MODEL_4e7797a624c54eb590384fa651dbe947",
       "value": 929.0
      }
     },
     "2f2bd45729124626aee128ef04255b2a": {
      "model_module": "@jupyter-widgets/controls",
      "model_module_version": "1.5.0",
      "model_name": "DescriptionStyleModel",
      "state": {
       "_model_module": "@jupyter-widgets/controls",
       "_model_module_version": "1.5.0",
       "_model_name": "DescriptionStyleModel",
       "_view_count": null,
       "_view_module": "@jupyter-widgets/base",
       "_view_module_version": "1.2.0",
       "_view_name": "StyleView",
       "description_width": ""
      }
     },
     "361cef2b0bfd493cb22004aa3c7ab11a": {
      "model_module": "@jupyter-widgets/controls",
      "model_module_version": "1.5.0",
      "model_name": "HTMLModel",
      "state": {
       "_dom_classes": [],
       "_model_module": "@jupyter-widgets/controls",
       "_model_module_version": "1.5.0",
       "_model_name": "HTMLModel",
       "_view_count": null,
       "_view_module": "@jupyter-widgets/controls",
       "_view_module_version": "1.5.0",
       "_view_name": "HTMLView",
       "description": "",
       "description_tooltip": null,
       "layout": "IPY_MODEL_39cfa4aa696a4c168c5f994e24c43c1c",
       "placeholder": "​",
       "style": "IPY_MODEL_c534a3dddd844543be137288eb878516",
       "value": " 2000/2000 [05:19&lt;00:00,  4.60it/s]"
      }
     },
     "39cfa4aa696a4c168c5f994e24c43c1c": {
      "model_module": "@jupyter-widgets/base",
      "model_module_version": "1.2.0",
      "model_name": "LayoutModel",
      "state": {
       "_model_module": "@jupyter-widgets/base",
       "_model_module_version": "1.2.0",
       "_model_name": "LayoutModel",
       "_view_count": null,
       "_view_module": "@jupyter-widgets/base",
       "_view_module_version": "1.2.0",
       "_view_name": "LayoutView",
       "align_content": null,
       "align_items": null,
       "align_self": null,
       "border": null,
       "bottom": null,
       "display": null,
       "flex": null,
       "flex_flow": null,
       "grid_area": null,
       "grid_auto_columns": null,
       "grid_auto_flow": null,
       "grid_auto_rows": null,
       "grid_column": null,
       "grid_gap": null,
       "grid_row": null,
       "grid_template_areas": null,
       "grid_template_columns": null,
       "grid_template_rows": null,
       "height": null,
       "justify_content": null,
       "justify_items": null,
       "left": null,
       "margin": null,
       "max_height": null,
       "max_width": null,
       "min_height": null,
       "min_width": null,
       "object_fit": null,
       "object_position": null,
       "order": null,
       "overflow": null,
       "overflow_x": null,
       "overflow_y": null,
       "padding": null,
       "right": null,
       "top": null,
       "visibility": null,
       "width": null
      }
     },
     "3dd35fa17b494f87ab128d839aab51f8": {
      "model_module": "@jupyter-widgets/controls",
      "model_module_version": "1.5.0",
      "model_name": "DescriptionStyleModel",
      "state": {
       "_model_module": "@jupyter-widgets/controls",
       "_model_module_version": "1.5.0",
       "_model_name": "DescriptionStyleModel",
       "_view_count": null,
       "_view_module": "@jupyter-widgets/base",
       "_view_module_version": "1.2.0",
       "_view_name": "StyleView",
       "description_width": ""
      }
     },
     "42ee5491f48141cb95d5b87267ae1190": {
      "model_module": "@jupyter-widgets/controls",
      "model_module_version": "1.5.0",
      "model_name": "HTMLModel",
      "state": {
       "_dom_classes": [],
       "_model_module": "@jupyter-widgets/controls",
       "_model_module_version": "1.5.0",
       "_model_name": "HTMLModel",
       "_view_count": null,
       "_view_module": "@jupyter-widgets/controls",
       "_view_module_version": "1.5.0",
       "_view_name": "HTMLView",
       "description": "",
       "description_tooltip": null,
       "layout": "IPY_MODEL_1fb991b7a0b34099ac3ee8b8178b0513",
       "placeholder": "​",
       "style": "IPY_MODEL_bf0a166d906c45789728b668696d2492",
       "value": "vocab.json: 100%"
      }
     },
     "462c9f8da24141d2ad520be3307b1342": {
      "model_module": "@jupyter-widgets/controls",
      "model_module_version": "1.5.0",
      "model_name": "FloatProgressModel",
      "state": {
       "_dom_classes": [],
       "_model_module": "@jupyter-widgets/controls",
       "_model_module_version": "1.5.0",
       "_model_name": "FloatProgressModel",
       "_view_count": null,
       "_view_module": "@jupyter-widgets/controls",
       "_view_module_version": "1.5.0",
       "_view_name": "ProgressView",
       "bar_style": "success",
       "description": "",
       "description_tooltip": null,
       "layout": "IPY_MODEL_7fd996fd0931416a876caa5d96ec760d",
       "max": 501045531.0,
       "min": 0.0,
       "orientation": "horizontal",
       "style": "IPY_MODEL_52a60905d8e348c2bf389e34a373c753",
       "value": 501045531.0
      }
     },
     "4e7797a624c54eb590384fa651dbe947": {
      "model_module": "@jupyter-widgets/controls",
      "model_module_version": "1.5.0",
      "model_name": "ProgressStyleModel",
      "state": {
       "_model_module": "@jupyter-widgets/controls",
       "_model_module_version": "1.5.0",
       "_model_name": "ProgressStyleModel",
       "_view_count": null,
       "_view_module": "@jupyter-widgets/base",
       "_view_module_version": "1.2.0",
       "_view_name": "StyleView",
       "bar_color": null,
       "description_width": ""
      }
     },
     "4f63cad1d37041598665c675b1160b6a": {
      "model_module": "@jupyter-widgets/controls",
      "model_module_version": "1.5.0",
      "model_name": "HTMLModel",
      "state": {
       "_dom_classes": [],
       "_model_module": "@jupyter-widgets/controls",
       "_model_module_version": "1.5.0",
       "_model_name": "HTMLModel",
       "_view_count": null,
       "_view_module": "@jupyter-widgets/controls",
       "_view_module_version": "1.5.0",
       "_view_name": "HTMLView",
       "description": "",
       "description_tooltip": null,
       "layout": "IPY_MODEL_c057933e43464d0086c001e380177b7f",
       "placeholder": "​",
       "style": "IPY_MODEL_3dd35fa17b494f87ab128d839aab51f8",
       "value": "config.json: 100%"
      }
     },
     "52a60905d8e348c2bf389e34a373c753": {
      "model_module": "@jupyter-widgets/controls",
      "model_module_version": "1.5.0",
      "model_name": "ProgressStyleModel",
      "state": {
       "_model_module": "@jupyter-widgets/controls",
       "_model_module_version": "1.5.0",
       "_model_name": "ProgressStyleModel",
       "_view_count": null,
       "_view_module": "@jupyter-widgets/base",
       "_view_module_version": "1.2.0",
       "_view_name": "StyleView",
       "bar_color": null,
       "description_width": ""
      }
     },
     "53fa460aa3394c73ab0bc69f3e57598f": {
      "model_module": "@jupyter-widgets/controls",
      "model_module_version": "1.5.0",
      "model_name": "HBoxModel",
      "state": {
       "_dom_classes": [],
       "_model_module": "@jupyter-widgets/controls",
       "_model_module_version": "1.5.0",
       "_model_name": "HBoxModel",
       "_view_count": null,
       "_view_module": "@jupyter-widgets/controls",
       "_view_module_version": "1.5.0",
       "_view_name": "HBoxView",
       "box_style": "",
       "children": [
        "IPY_MODEL_7988dbdba5c44f6787a43864f20c205d",
        "IPY_MODEL_462c9f8da24141d2ad520be3307b1342",
        "IPY_MODEL_d635c77ed61b4931af480927be268243"
       ],
       "layout": "IPY_MODEL_6c98cf39676344a5b80ce24d782bd9d5"
      }
     },
     "55cb7ae7d57745bab8de31bdcb6b834c": {
      "model_module": "@jupyter-widgets/base",
      "model_module_version": "1.2.0",
      "model_name": "LayoutModel",
      "state": {
       "_model_module": "@jupyter-widgets/base",
       "_model_module_version": "1.2.0",
       "_model_name": "LayoutModel",
       "_view_count": null,
       "_view_module": "@jupyter-widgets/base",
       "_view_module_version": "1.2.0",
       "_view_name": "LayoutView",
       "align_content": null,
       "align_items": null,
       "align_self": null,
       "border": null,
       "bottom": null,
       "display": null,
       "flex": null,
       "flex_flow": null,
       "grid_area": null,
       "grid_auto_columns": null,
       "grid_auto_flow": null,
       "grid_auto_rows": null,
       "grid_column": null,
       "grid_gap": null,
       "grid_row": null,
       "grid_template_areas": null,
       "grid_template_columns": null,
       "grid_template_rows": null,
       "height": null,
       "justify_content": null,
       "justify_items": null,
       "left": null,
       "margin": null,
       "max_height": null,
       "max_width": null,
       "min_height": null,
       "min_width": null,
       "object_fit": null,
       "object_position": null,
       "order": null,
       "overflow": null,
       "overflow_x": null,
       "overflow_y": null,
       "padding": null,
       "right": null,
       "top": null,
       "visibility": null,
       "width": null
      }
     },
     "5ba627f941dc48568cfb7a0bb5293cfd": {
      "model_module": "@jupyter-widgets/controls",
      "model_module_version": "1.5.0",
      "model_name": "ProgressStyleModel",
      "state": {
       "_model_module": "@jupyter-widgets/controls",
       "_model_module_version": "1.5.0",
       "_model_name": "ProgressStyleModel",
       "_view_count": null,
       "_view_module": "@jupyter-widgets/base",
       "_view_module_version": "1.2.0",
       "_view_name": "StyleView",
       "bar_color": null,
       "description_width": ""
      }
     },
     "5d3d7dfda1bc4c7ea1d854d574a77c93": {
      "model_module": "@jupyter-widgets/controls",
      "model_module_version": "1.5.0",
      "model_name": "HTMLModel",
      "state": {
       "_dom_classes": [],
       "_model_module": "@jupyter-widgets/controls",
       "_model_module_version": "1.5.0",
       "_model_name": "HTMLModel",
       "_view_count": null,
       "_view_module": "@jupyter-widgets/controls",
       "_view_module_version": "1.5.0",
       "_view_name": "HTMLView",
       "description": "",
       "description_tooltip": null,
       "layout": "IPY_MODEL_96b4ecd430fb40cd810675091a24b5cb",
       "placeholder": "​",
       "style": "IPY_MODEL_2f2bd45729124626aee128ef04255b2a",
       "value": "merges.txt: 100%"
      }
     },
     "612ebc898cc04586bb36185a95d89d21": {
      "model_module": "@jupyter-widgets/base",
      "model_module_version": "1.2.0",
      "model_name": "LayoutModel",
      "state": {
       "_model_module": "@jupyter-widgets/base",
       "_model_module_version": "1.2.0",
       "_model_name": "LayoutModel",
       "_view_count": null,
       "_view_module": "@jupyter-widgets/base",
       "_view_module_version": "1.2.0",
       "_view_name": "LayoutView",
       "align_content": null,
       "align_items": null,
       "align_self": null,
       "border": null,
       "bottom": null,
       "display": null,
       "flex": null,
       "flex_flow": null,
       "grid_area": null,
       "grid_auto_columns": null,
       "grid_auto_flow": null,
       "grid_auto_rows": null,
       "grid_column": null,
       "grid_gap": null,
       "grid_row": null,
       "grid_template_areas": null,
       "grid_template_columns": null,
       "grid_template_rows": null,
       "height": null,
       "justify_content": null,
       "justify_items": null,
       "left": null,
       "margin": null,
       "max_height": null,
       "max_width": null,
       "min_height": null,
       "min_width": null,
       "object_fit": null,
       "object_position": null,
       "order": null,
       "overflow": null,
       "overflow_x": null,
       "overflow_y": null,
       "padding": null,
       "right": null,
       "top": null,
       "visibility": null,
       "width": null
      }
     },
     "65e51c86371540049287e8ba6ba42262": {
      "model_module": "@jupyter-widgets/controls",
      "model_module_version": "1.5.0",
      "model_name": "DescriptionStyleModel",
      "state": {
       "_model_module": "@jupyter-widgets/controls",
       "_model_module_version": "1.5.0",
       "_model_name": "DescriptionStyleModel",
       "_view_count": null,
       "_view_module": "@jupyter-widgets/base",
       "_view_module_version": "1.2.0",
       "_view_name": "StyleView",
       "description_width": ""
      }
     },
     "68c1dce8caa948b5ba77b1eae201cfde": {
      "model_module": "@jupyter-widgets/controls",
      "model_module_version": "1.5.0",
      "model_name": "ProgressStyleModel",
      "state": {
       "_model_module": "@jupyter-widgets/controls",
       "_model_module_version": "1.5.0",
       "_model_name": "ProgressStyleModel",
       "_view_count": null,
       "_view_module": "@jupyter-widgets/base",
       "_view_module_version": "1.2.0",
       "_view_name": "StyleView",
       "bar_color": null,
       "description_width": ""
      }
     },
     "6af670c3810a4143bfc74a3ada652a5b": {
      "model_module": "@jupyter-widgets/controls",
      "model_module_version": "1.5.0",
      "model_name": "HTMLModel",
      "state": {
       "_dom_classes": [],
       "_model_module": "@jupyter-widgets/controls",
       "_model_module_version": "1.5.0",
       "_model_name": "HTMLModel",
       "_view_count": null,
       "_view_module": "@jupyter-widgets/controls",
       "_view_module_version": "1.5.0",
       "_view_name": "HTMLView",
       "description": "",
       "description_tooltip": null,
       "layout": "IPY_MODEL_88622f3fa70e48a79c4e4c9ce52b7925",
       "placeholder": "​",
       "style": "IPY_MODEL_110dfeb3e8b44a79b4150d7adc2d942c",
       "value": " 456k/456k [00:00&lt;00:00, 768kB/s]"
      }
     },
     "6c98cf39676344a5b80ce24d782bd9d5": {
      "model_module": "@jupyter-widgets/base",
      "model_module_version": "1.2.0",
      "model_name": "LayoutModel",
      "state": {
       "_model_module": "@jupyter-widgets/base",
       "_model_module_version": "1.2.0",
       "_model_name": "LayoutModel",
       "_view_count": null,
       "_view_module": "@jupyter-widgets/base",
       "_view_module_version": "1.2.0",
       "_view_name": "LayoutView",
       "align_content": null,
       "align_items": null,
       "align_self": null,
       "border": null,
       "bottom": null,
       "display": null,
       "flex": null,
       "flex_flow": null,
       "grid_area": null,
       "grid_auto_columns": null,
       "grid_auto_flow": null,
       "grid_auto_rows": null,
       "grid_column": null,
       "grid_gap": null,
       "grid_row": null,
       "grid_template_areas": null,
       "grid_template_columns": null,
       "grid_template_rows": null,
       "height": null,
       "justify_content": null,
       "justify_items": null,
       "left": null,
       "margin": null,
       "max_height": null,
       "max_width": null,
       "min_height": null,
       "min_width": null,
       "object_fit": null,
       "object_position": null,
       "order": null,
       "overflow": null,
       "overflow_x": null,
       "overflow_y": null,
       "padding": null,
       "right": null,
       "top": null,
       "visibility": null,
       "width": null
      }
     },
     "6e0bf0b465ad431cae8513bcb2c3348a": {
      "model_module": "@jupyter-widgets/base",
      "model_module_version": "1.2.0",
      "model_name": "LayoutModel",
      "state": {
       "_model_module": "@jupyter-widgets/base",
       "_model_module_version": "1.2.0",
       "_model_name": "LayoutModel",
       "_view_count": null,
       "_view_module": "@jupyter-widgets/base",
       "_view_module_version": "1.2.0",
       "_view_name": "LayoutView",
       "align_content": null,
       "align_items": null,
       "align_self": null,
       "border": null,
       "bottom": null,
       "display": null,
       "flex": null,
       "flex_flow": null,
       "grid_area": null,
       "grid_auto_columns": null,
       "grid_auto_flow": null,
       "grid_auto_rows": null,
       "grid_column": null,
       "grid_gap": null,
       "grid_row": null,
       "grid_template_areas": null,
       "grid_template_columns": null,
       "grid_template_rows": null,
       "height": null,
       "justify_content": null,
       "justify_items": null,
       "left": null,
       "margin": null,
       "max_height": null,
       "max_width": null,
       "min_height": null,
       "min_width": null,
       "object_fit": null,
       "object_position": null,
       "order": null,
       "overflow": null,
       "overflow_x": null,
       "overflow_y": null,
       "padding": null,
       "right": null,
       "top": null,
       "visibility": null,
       "width": null
      }
     },
     "6f74c9970d5245cabf29e62fad72ecc3": {
      "model_module": "@jupyter-widgets/controls",
      "model_module_version": "1.5.0",
      "model_name": "DescriptionStyleModel",
      "state": {
       "_model_module": "@jupyter-widgets/controls",
       "_model_module_version": "1.5.0",
       "_model_name": "DescriptionStyleModel",
       "_view_count": null,
       "_view_module": "@jupyter-widgets/base",
       "_view_module_version": "1.2.0",
       "_view_name": "StyleView",
       "description_width": ""
      }
     },
     "7622ea6f723b4848b673f9381a5206f7": {
      "model_module": "@jupyter-widgets/base",
      "model_module_version": "1.2.0",
      "model_name": "LayoutModel",
      "state": {
       "_model_module": "@jupyter-widgets/base",
       "_model_module_version": "1.2.0",
       "_model_name": "LayoutModel",
       "_view_count": null,
       "_view_module": "@jupyter-widgets/base",
       "_view_module_version": "1.2.0",
       "_view_name": "LayoutView",
       "align_content": null,
       "align_items": null,
       "align_self": null,
       "border": null,
       "bottom": null,
       "display": null,
       "flex": null,
       "flex_flow": null,
       "grid_area": null,
       "grid_auto_columns": null,
       "grid_auto_flow": null,
       "grid_auto_rows": null,
       "grid_column": null,
       "grid_gap": null,
       "grid_row": null,
       "grid_template_areas": null,
       "grid_template_columns": null,
       "grid_template_rows": null,
       "height": null,
       "justify_content": null,
       "justify_items": null,
       "left": null,
       "margin": null,
       "max_height": null,
       "max_width": null,
       "min_height": null,
       "min_width": null,
       "object_fit": null,
       "object_position": null,
       "order": null,
       "overflow": null,
       "overflow_x": null,
       "overflow_y": null,
       "padding": null,
       "right": null,
       "top": null,
       "visibility": null,
       "width": null
      }
     },
     "7988dbdba5c44f6787a43864f20c205d": {
      "model_module": "@jupyter-widgets/controls",
      "model_module_version": "1.5.0",
      "model_name": "HTMLModel",
      "state": {
       "_dom_classes": [],
       "_model_module": "@jupyter-widgets/controls",
       "_model_module_version": "1.5.0",
       "_model_name": "HTMLModel",
       "_view_count": null,
       "_view_module": "@jupyter-widgets/controls",
       "_view_module_version": "1.5.0",
       "_view_name": "HTMLView",
       "description": "",
       "description_tooltip": null,
       "layout": "IPY_MODEL_e8512c90dc364e6198a5c4cf5dd9716a",
       "placeholder": "​",
       "style": "IPY_MODEL_0318cd985485419f9f82a6829fb96a00",
       "value": "pytorch_model.bin: 100%"
      }
     },
     "7e278c903d9d4725a045ee376843b8ac": {
      "model_module": "@jupyter-widgets/controls",
      "model_module_version": "1.5.0",
      "model_name": "HBoxModel",
      "state": {
       "_dom_classes": [],
       "_model_module": "@jupyter-widgets/controls",
       "_model_module_version": "1.5.0",
       "_model_name": "HBoxModel",
       "_view_count": null,
       "_view_module": "@jupyter-widgets/controls",
       "_view_module_version": "1.5.0",
       "_view_name": "HBoxView",
       "box_style": "",
       "children": [
        "IPY_MODEL_5d3d7dfda1bc4c7ea1d854d574a77c93",
        "IPY_MODEL_8f5eff8d90254786a26138ca8bbc3903",
        "IPY_MODEL_6af670c3810a4143bfc74a3ada652a5b"
       ],
       "layout": "IPY_MODEL_7622ea6f723b4848b673f9381a5206f7"
      }
     },
     "7fd996fd0931416a876caa5d96ec760d": {
      "model_module": "@jupyter-widgets/base",
      "model_module_version": "1.2.0",
      "model_name": "LayoutModel",
      "state": {
       "_model_module": "@jupyter-widgets/base",
       "_model_module_version": "1.2.0",
       "_model_name": "LayoutModel",
       "_view_count": null,
       "_view_module": "@jupyter-widgets/base",
       "_view_module_version": "1.2.0",
       "_view_name": "LayoutView",
       "align_content": null,
       "align_items": null,
       "align_self": null,
       "border": null,
       "bottom": null,
       "display": null,
       "flex": null,
       "flex_flow": null,
       "grid_area": null,
       "grid_auto_columns": null,
       "grid_auto_flow": null,
       "grid_auto_rows": null,
       "grid_column": null,
       "grid_gap": null,
       "grid_row": null,
       "grid_template_areas": null,
       "grid_template_columns": null,
       "grid_template_rows": null,
       "height": null,
       "justify_content": null,
       "justify_items": null,
       "left": null,
       "margin": null,
       "max_height": null,
       "max_width": null,
       "min_height": null,
       "min_width": null,
       "object_fit": null,
       "object_position": null,
       "order": null,
       "overflow": null,
       "overflow_x": null,
       "overflow_y": null,
       "padding": null,
       "right": null,
       "top": null,
       "visibility": null,
       "width": null
      }
     },
     "86e8799d566e4c69a94bd5d7c5972e9f": {
      "model_module": "@jupyter-widgets/controls",
      "model_module_version": "1.5.0",
      "model_name": "FloatProgressModel",
      "state": {
       "_dom_classes": [],
       "_model_module": "@jupyter-widgets/controls",
       "_model_module_version": "1.5.0",
       "_model_name": "FloatProgressModel",
       "_view_count": null,
       "_view_module": "@jupyter-widgets/controls",
       "_view_module_version": "1.5.0",
       "_view_name": "ProgressView",
       "bar_style": "success",
       "description": "",
       "description_tooltip": null,
       "layout": "IPY_MODEL_d405ede19f7c432caae82c56abf43f20",
       "max": 2000.0,
       "min": 0.0,
       "orientation": "horizontal",
       "style": "IPY_MODEL_c00e4a4328b444bca4514d4cab66d63e",
       "value": 2000.0
      }
     },
     "88622f3fa70e48a79c4e4c9ce52b7925": {
      "model_module": "@jupyter-widgets/base",
      "model_module_version": "1.2.0",
      "model_name": "LayoutModel",
      "state": {
       "_model_module": "@jupyter-widgets/base",
       "_model_module_version": "1.2.0",
       "_model_name": "LayoutModel",
       "_view_count": null,
       "_view_module": "@jupyter-widgets/base",
       "_view_module_version": "1.2.0",
       "_view_name": "LayoutView",
       "align_content": null,
       "align_items": null,
       "align_self": null,
       "border": null,
       "bottom": null,
       "display": null,
       "flex": null,
       "flex_flow": null,
       "grid_area": null,
       "grid_auto_columns": null,
       "grid_auto_flow": null,
       "grid_auto_rows": null,
       "grid_column": null,
       "grid_gap": null,
       "grid_row": null,
       "grid_template_areas": null,
       "grid_template_columns": null,
       "grid_template_rows": null,
       "height": null,
       "justify_content": null,
       "justify_items": null,
       "left": null,
       "margin": null,
       "max_height": null,
       "max_width": null,
       "min_height": null,
       "min_width": null,
       "object_fit": null,
       "object_position": null,
       "order": null,
       "overflow": null,
       "overflow_x": null,
       "overflow_y": null,
       "padding": null,
       "right": null,
       "top": null,
       "visibility": null,
       "width": null
      }
     },
     "8a1cd83855cb4e2aa7da51af0254a7f4": {
      "model_module": "@jupyter-widgets/base",
      "model_module_version": "1.2.0",
      "model_name": "LayoutModel",
      "state": {
       "_model_module": "@jupyter-widgets/base",
       "_model_module_version": "1.2.0",
       "_model_name": "LayoutModel",
       "_view_count": null,
       "_view_module": "@jupyter-widgets/base",
       "_view_module_version": "1.2.0",
       "_view_name": "LayoutView",
       "align_content": null,
       "align_items": null,
       "align_self": null,
       "border": null,
       "bottom": null,
       "display": null,
       "flex": null,
       "flex_flow": null,
       "grid_area": null,
       "grid_auto_columns": null,
       "grid_auto_flow": null,
       "grid_auto_rows": null,
       "grid_column": null,
       "grid_gap": null,
       "grid_row": null,
       "grid_template_areas": null,
       "grid_template_columns": null,
       "grid_template_rows": null,
       "height": null,
       "justify_content": null,
       "justify_items": null,
       "left": null,
       "margin": null,
       "max_height": null,
       "max_width": null,
       "min_height": null,
       "min_width": null,
       "object_fit": null,
       "object_position": null,
       "order": null,
       "overflow": null,
       "overflow_x": null,
       "overflow_y": null,
       "padding": null,
       "right": null,
       "top": null,
       "visibility": null,
       "width": null
      }
     },
     "8b702e52acc441be91e012c6a7628783": {
      "model_module": "@jupyter-widgets/base",
      "model_module_version": "1.2.0",
      "model_name": "LayoutModel",
      "state": {
       "_model_module": "@jupyter-widgets/base",
       "_model_module_version": "1.2.0",
       "_model_name": "LayoutModel",
       "_view_count": null,
       "_view_module": "@jupyter-widgets/base",
       "_view_module_version": "1.2.0",
       "_view_name": "LayoutView",
       "align_content": null,
       "align_items": null,
       "align_self": null,
       "border": null,
       "bottom": null,
       "display": null,
       "flex": null,
       "flex_flow": null,
       "grid_area": null,
       "grid_auto_columns": null,
       "grid_auto_flow": null,
       "grid_auto_rows": null,
       "grid_column": null,
       "grid_gap": null,
       "grid_row": null,
       "grid_template_areas": null,
       "grid_template_columns": null,
       "grid_template_rows": null,
       "height": null,
       "justify_content": null,
       "justify_items": null,
       "left": null,
       "margin": null,
       "max_height": null,
       "max_width": null,
       "min_height": null,
       "min_width": null,
       "object_fit": null,
       "object_position": null,
       "order": null,
       "overflow": null,
       "overflow_x": null,
       "overflow_y": null,
       "padding": null,
       "right": null,
       "top": null,
       "visibility": null,
       "width": null
      }
     },
     "8cb8907735574c8285ce16c997242212": {
      "model_module": "@jupyter-widgets/controls",
      "model_module_version": "1.5.0",
      "model_name": "HBoxModel",
      "state": {
       "_dom_classes": [],
       "_model_module": "@jupyter-widgets/controls",
       "_model_module_version": "1.5.0",
       "_model_name": "HBoxModel",
       "_view_count": null,
       "_view_module": "@jupyter-widgets/controls",
       "_view_module_version": "1.5.0",
       "_view_name": "HBoxView",
       "box_style": "",
       "children": [
        "IPY_MODEL_42ee5491f48141cb95d5b87267ae1190",
        "IPY_MODEL_a1293f1457304f78b76f98d53eb17c53",
        "IPY_MODEL_ca1a17da4ee24d97a1f7f4d8528f2729"
       ],
       "layout": "IPY_MODEL_936fcaa5423e469ebd1534ed394a60f5"
      }
     },
     "8d930a67c0924f1c85eaaef8c882e47c": {
      "model_module": "@jupyter-widgets/base",
      "model_module_version": "1.2.0",
      "model_name": "LayoutModel",
      "state": {
       "_model_module": "@jupyter-widgets/base",
       "_model_module_version": "1.2.0",
       "_model_name": "LayoutModel",
       "_view_count": null,
       "_view_module": "@jupyter-widgets/base",
       "_view_module_version": "1.2.0",
       "_view_name": "LayoutView",
       "align_content": null,
       "align_items": null,
       "align_self": null,
       "border": null,
       "bottom": null,
       "display": null,
       "flex": null,
       "flex_flow": null,
       "grid_area": null,
       "grid_auto_columns": null,
       "grid_auto_flow": null,
       "grid_auto_rows": null,
       "grid_column": null,
       "grid_gap": null,
       "grid_row": null,
       "grid_template_areas": null,
       "grid_template_columns": null,
       "grid_template_rows": null,
       "height": null,
       "justify_content": null,
       "justify_items": null,
       "left": null,
       "margin": null,
       "max_height": null,
       "max_width": null,
       "min_height": null,
       "min_width": null,
       "object_fit": null,
       "object_position": null,
       "order": null,
       "overflow": null,
       "overflow_x": null,
       "overflow_y": null,
       "padding": null,
       "right": null,
       "top": null,
       "visibility": null,
       "width": null
      }
     },
     "8f5eff8d90254786a26138ca8bbc3903": {
      "model_module": "@jupyter-widgets/controls",
      "model_module_version": "1.5.0",
      "model_name": "FloatProgressModel",
      "state": {
       "_dom_classes": [],
       "_model_module": "@jupyter-widgets/controls",
       "_model_module_version": "1.5.0",
       "_model_name": "FloatProgressModel",
       "_view_count": null,
       "_view_module": "@jupyter-widgets/controls",
       "_view_module_version": "1.5.0",
       "_view_name": "ProgressView",
       "bar_style": "success",
       "description": "",
       "description_tooltip": null,
       "layout": "IPY_MODEL_8a1cd83855cb4e2aa7da51af0254a7f4",
       "max": 456318.0,
       "min": 0.0,
       "orientation": "horizontal",
       "style": "IPY_MODEL_68c1dce8caa948b5ba77b1eae201cfde",
       "value": 456318.0
      }
     },
     "936fcaa5423e469ebd1534ed394a60f5": {
      "model_module": "@jupyter-widgets/base",
      "model_module_version": "1.2.0",
      "model_name": "LayoutModel",
      "state": {
       "_model_module": "@jupyter-widgets/base",
       "_model_module_version": "1.2.0",
       "_model_name": "LayoutModel",
       "_view_count": null,
       "_view_module": "@jupyter-widgets/base",
       "_view_module_version": "1.2.0",
       "_view_name": "LayoutView",
       "align_content": null,
       "align_items": null,
       "align_self": null,
       "border": null,
       "bottom": null,
       "display": null,
       "flex": null,
       "flex_flow": null,
       "grid_area": null,
       "grid_auto_columns": null,
       "grid_auto_flow": null,
       "grid_auto_rows": null,
       "grid_column": null,
       "grid_gap": null,
       "grid_row": null,
       "grid_template_areas": null,
       "grid_template_columns": null,
       "grid_template_rows": null,
       "height": null,
       "justify_content": null,
       "justify_items": null,
       "left": null,
       "margin": null,
       "max_height": null,
       "max_width": null,
       "min_height": null,
       "min_width": null,
       "object_fit": null,
       "object_position": null,
       "order": null,
       "overflow": null,
       "overflow_x": null,
       "overflow_y": null,
       "padding": null,
       "right": null,
       "top": null,
       "visibility": null,
       "width": null
      }
     },
     "946c6da1e1a14b129d0d6414511bdee7": {
      "model_module": "@jupyter-widgets/base",
      "model_module_version": "1.2.0",
      "model_name": "LayoutModel",
      "state": {
       "_model_module": "@jupyter-widgets/base",
       "_model_module_version": "1.2.0",
       "_model_name": "LayoutModel",
       "_view_count": null,
       "_view_module": "@jupyter-widgets/base",
       "_view_module_version": "1.2.0",
       "_view_name": "LayoutView",
       "align_content": null,
       "align_items": null,
       "align_self": null,
       "border": null,
       "bottom": null,
       "display": null,
       "flex": null,
       "flex_flow": null,
       "grid_area": null,
       "grid_auto_columns": null,
       "grid_auto_flow": null,
       "grid_auto_rows": null,
       "grid_column": null,
       "grid_gap": null,
       "grid_row": null,
       "grid_template_areas": null,
       "grid_template_columns": null,
       "grid_template_rows": null,
       "height": null,
       "justify_content": null,
       "justify_items": null,
       "left": null,
       "margin": null,
       "max_height": null,
       "max_width": null,
       "min_height": null,
       "min_width": null,
       "object_fit": null,
       "object_position": null,
       "order": null,
       "overflow": null,
       "overflow_x": null,
       "overflow_y": null,
       "padding": null,
       "right": null,
       "top": null,
       "visibility": null,
       "width": null
      }
     },
     "96b4ecd430fb40cd810675091a24b5cb": {
      "model_module": "@jupyter-widgets/base",
      "model_module_version": "1.2.0",
      "model_name": "LayoutModel",
      "state": {
       "_model_module": "@jupyter-widgets/base",
       "_model_module_version": "1.2.0",
       "_model_name": "LayoutModel",
       "_view_count": null,
       "_view_module": "@jupyter-widgets/base",
       "_view_module_version": "1.2.0",
       "_view_name": "LayoutView",
       "align_content": null,
       "align_items": null,
       "align_self": null,
       "border": null,
       "bottom": null,
       "display": null,
       "flex": null,
       "flex_flow": null,
       "grid_area": null,
       "grid_auto_columns": null,
       "grid_auto_flow": null,
       "grid_auto_rows": null,
       "grid_column": null,
       "grid_gap": null,
       "grid_row": null,
       "grid_template_areas": null,
       "grid_template_columns": null,
       "grid_template_rows": null,
       "height": null,
       "justify_content": null,
       "justify_items": null,
       "left": null,
       "margin": null,
       "max_height": null,
       "max_width": null,
       "min_height": null,
       "min_width": null,
       "object_fit": null,
       "object_position": null,
       "order": null,
       "overflow": null,
       "overflow_x": null,
       "overflow_y": null,
       "padding": null,
       "right": null,
       "top": null,
       "visibility": null,
       "width": null
      }
     },
     "a1293f1457304f78b76f98d53eb17c53": {
      "model_module": "@jupyter-widgets/controls",
      "model_module_version": "1.5.0",
      "model_name": "FloatProgressModel",
      "state": {
       "_dom_classes": [],
       "_model_module": "@jupyter-widgets/controls",
       "_model_module_version": "1.5.0",
       "_model_name": "FloatProgressModel",
       "_view_count": null,
       "_view_module": "@jupyter-widgets/controls",
       "_view_module_version": "1.5.0",
       "_view_name": "ProgressView",
       "bar_style": "success",
       "description": "",
       "description_tooltip": null,
       "layout": "IPY_MODEL_b654af5ad8f540e79b605548d49031c9",
       "max": 898822.0,
       "min": 0.0,
       "orientation": "horizontal",
       "style": "IPY_MODEL_5ba627f941dc48568cfb7a0bb5293cfd",
       "value": 898822.0
      }
     },
     "a1f9a3aa0b3d4bf291e1ce662e0783a7": {
      "model_module": "@jupyter-widgets/base",
      "model_module_version": "1.2.0",
      "model_name": "LayoutModel",
      "state": {
       "_model_module": "@jupyter-widgets/base",
       "_model_module_version": "1.2.0",
       "_model_name": "LayoutModel",
       "_view_count": null,
       "_view_module": "@jupyter-widgets/base",
       "_view_module_version": "1.2.0",
       "_view_name": "LayoutView",
       "align_content": null,
       "align_items": null,
       "align_self": null,
       "border": null,
       "bottom": null,
       "display": null,
       "flex": null,
       "flex_flow": null,
       "grid_area": null,
       "grid_auto_columns": null,
       "grid_auto_flow": null,
       "grid_auto_rows": null,
       "grid_column": null,
       "grid_gap": null,
       "grid_row": null,
       "grid_template_areas": null,
       "grid_template_columns": null,
       "grid_template_rows": null,
       "height": null,
       "justify_content": null,
       "justify_items": null,
       "left": null,
       "margin": null,
       "max_height": null,
       "max_width": null,
       "min_height": null,
       "min_width": null,
       "object_fit": null,
       "object_position": null,
       "order": null,
       "overflow": null,
       "overflow_x": null,
       "overflow_y": null,
       "padding": null,
       "right": null,
       "top": null,
       "visibility": null,
       "width": null
      }
     },
     "a605c9b65f254656b56dcd9de9f96ba4": {
      "model_module": "@jupyter-widgets/controls",
      "model_module_version": "1.5.0",
      "model_name": "HTMLModel",
      "state": {
       "_dom_classes": [],
       "_model_module": "@jupyter-widgets/controls",
       "_model_module_version": "1.5.0",
       "_model_name": "HTMLModel",
       "_view_count": null,
       "_view_module": "@jupyter-widgets/controls",
       "_view_module_version": "1.5.0",
       "_view_name": "HTMLView",
       "description": "",
       "description_tooltip": null,
       "layout": "IPY_MODEL_0d7f2dd0fac84d78a98582e145a50c0c",
       "placeholder": "​",
       "style": "IPY_MODEL_182f675a00234d79be111ec16b53d66f",
       "value": "100%"
      }
     },
     "b428e215c16843e08415112c8970d611": {
      "model_module": "@jupyter-widgets/controls",
      "model_module_version": "1.5.0",
      "model_name": "FloatProgressModel",
      "state": {
       "_dom_classes": [],
       "_model_module": "@jupyter-widgets/controls",
       "_model_module_version": "1.5.0",
       "_model_name": "FloatProgressModel",
       "_view_count": null,
       "_view_module": "@jupyter-widgets/controls",
       "_view_module_version": "1.5.0",
       "_view_name": "ProgressView",
       "bar_style": "success",
       "description": "",
       "description_tooltip": null,
       "layout": "IPY_MODEL_8d930a67c0924f1c85eaaef8c882e47c",
       "max": 239.0,
       "min": 0.0,
       "orientation": "horizontal",
       "style": "IPY_MODEL_b5b856750101473da76b3554e516c164",
       "value": 239.0
      }
     },
     "b5b856750101473da76b3554e516c164": {
      "model_module": "@jupyter-widgets/controls",
      "model_module_version": "1.5.0",
      "model_name": "ProgressStyleModel",
      "state": {
       "_model_module": "@jupyter-widgets/controls",
       "_model_module_version": "1.5.0",
       "_model_name": "ProgressStyleModel",
       "_view_count": null,
       "_view_module": "@jupyter-widgets/base",
       "_view_module_version": "1.2.0",
       "_view_name": "StyleView",
       "bar_color": null,
       "description_width": ""
      }
     },
     "b654af5ad8f540e79b605548d49031c9": {
      "model_module": "@jupyter-widgets/base",
      "model_module_version": "1.2.0",
      "model_name": "LayoutModel",
      "state": {
       "_model_module": "@jupyter-widgets/base",
       "_model_module_version": "1.2.0",
       "_model_name": "LayoutModel",
       "_view_count": null,
       "_view_module": "@jupyter-widgets/base",
       "_view_module_version": "1.2.0",
       "_view_name": "LayoutView",
       "align_content": null,
       "align_items": null,
       "align_self": null,
       "border": null,
       "bottom": null,
       "display": null,
       "flex": null,
       "flex_flow": null,
       "grid_area": null,
       "grid_auto_columns": null,
       "grid_auto_flow": null,
       "grid_auto_rows": null,
       "grid_column": null,
       "grid_gap": null,
       "grid_row": null,
       "grid_template_areas": null,
       "grid_template_columns": null,
       "grid_template_rows": null,
       "height": null,
       "justify_content": null,
       "justify_items": null,
       "left": null,
       "margin": null,
       "max_height": null,
       "max_width": null,
       "min_height": null,
       "min_width": null,
       "object_fit": null,
       "object_position": null,
       "order": null,
       "overflow": null,
       "overflow_x": null,
       "overflow_y": null,
       "padding": null,
       "right": null,
       "top": null,
       "visibility": null,
       "width": null
      }
     },
     "bf0a166d906c45789728b668696d2492": {
      "model_module": "@jupyter-widgets/controls",
      "model_module_version": "1.5.0",
      "model_name": "DescriptionStyleModel",
      "state": {
       "_model_module": "@jupyter-widgets/controls",
       "_model_module_version": "1.5.0",
       "_model_name": "DescriptionStyleModel",
       "_view_count": null,
       "_view_module": "@jupyter-widgets/base",
       "_view_module_version": "1.2.0",
       "_view_name": "StyleView",
       "description_width": ""
      }
     },
     "c00e4a4328b444bca4514d4cab66d63e": {
      "model_module": "@jupyter-widgets/controls",
      "model_module_version": "1.5.0",
      "model_name": "ProgressStyleModel",
      "state": {
       "_model_module": "@jupyter-widgets/controls",
       "_model_module_version": "1.5.0",
       "_model_name": "ProgressStyleModel",
       "_view_count": null,
       "_view_module": "@jupyter-widgets/base",
       "_view_module_version": "1.2.0",
       "_view_name": "StyleView",
       "bar_color": null,
       "description_width": ""
      }
     },
     "c057933e43464d0086c001e380177b7f": {
      "model_module": "@jupyter-widgets/base",
      "model_module_version": "1.2.0",
      "model_name": "LayoutModel",
      "state": {
       "_model_module": "@jupyter-widgets/base",
       "_model_module_version": "1.2.0",
       "_model_name": "LayoutModel",
       "_view_count": null,
       "_view_module": "@jupyter-widgets/base",
       "_view_module_version": "1.2.0",
       "_view_name": "LayoutView",
       "align_content": null,
       "align_items": null,
       "align_self": null,
       "border": null,
       "bottom": null,
       "display": null,
       "flex": null,
       "flex_flow": null,
       "grid_area": null,
       "grid_auto_columns": null,
       "grid_auto_flow": null,
       "grid_auto_rows": null,
       "grid_column": null,
       "grid_gap": null,
       "grid_row": null,
       "grid_template_areas": null,
       "grid_template_columns": null,
       "grid_template_rows": null,
       "height": null,
       "justify_content": null,
       "justify_items": null,
       "left": null,
       "margin": null,
       "max_height": null,
       "max_width": null,
       "min_height": null,
       "min_width": null,
       "object_fit": null,
       "object_position": null,
       "order": null,
       "overflow": null,
       "overflow_x": null,
       "overflow_y": null,
       "padding": null,
       "right": null,
       "top": null,
       "visibility": null,
       "width": null
      }
     },
     "c534a3dddd844543be137288eb878516": {
      "model_module": "@jupyter-widgets/controls",
      "model_module_version": "1.5.0",
      "model_name": "DescriptionStyleModel",
      "state": {
       "_model_module": "@jupyter-widgets/controls",
       "_model_module_version": "1.5.0",
       "_model_name": "DescriptionStyleModel",
       "_view_count": null,
       "_view_module": "@jupyter-widgets/base",
       "_view_module_version": "1.2.0",
       "_view_name": "StyleView",
       "description_width": ""
      }
     },
     "ca1a17da4ee24d97a1f7f4d8528f2729": {
      "model_module": "@jupyter-widgets/controls",
      "model_module_version": "1.5.0",
      "model_name": "HTMLModel",
      "state": {
       "_dom_classes": [],
       "_model_module": "@jupyter-widgets/controls",
       "_model_module_version": "1.5.0",
       "_model_name": "HTMLModel",
       "_view_count": null,
       "_view_module": "@jupyter-widgets/controls",
       "_view_module_version": "1.5.0",
       "_view_name": "HTMLView",
       "description": "",
       "description_tooltip": null,
       "layout": "IPY_MODEL_55cb7ae7d57745bab8de31bdcb6b834c",
       "placeholder": "​",
       "style": "IPY_MODEL_ceb999bc3434433aa32ef74ca570903e",
       "value": " 899k/899k [00:00&lt;00:00, 1.13MB/s]"
      }
     },
     "ceb999bc3434433aa32ef74ca570903e": {
      "model_module": "@jupyter-widgets/controls",
      "model_module_version": "1.5.0",
      "model_name": "DescriptionStyleModel",
      "state": {
       "_model_module": "@jupyter-widgets/controls",
       "_model_module_version": "1.5.0",
       "_model_name": "DescriptionStyleModel",
       "_view_count": null,
       "_view_module": "@jupyter-widgets/base",
       "_view_module_version": "1.2.0",
       "_view_name": "StyleView",
       "description_width": ""
      }
     },
     "d405ede19f7c432caae82c56abf43f20": {
      "model_module": "@jupyter-widgets/base",
      "model_module_version": "1.2.0",
      "model_name": "LayoutModel",
      "state": {
       "_model_module": "@jupyter-widgets/base",
       "_model_module_version": "1.2.0",
       "_model_name": "LayoutModel",
       "_view_count": null,
       "_view_module": "@jupyter-widgets/base",
       "_view_module_version": "1.2.0",
       "_view_name": "LayoutView",
       "align_content": null,
       "align_items": null,
       "align_self": null,
       "border": null,
       "bottom": null,
       "display": null,
       "flex": null,
       "flex_flow": null,
       "grid_area": null,
       "grid_auto_columns": null,
       "grid_auto_flow": null,
       "grid_auto_rows": null,
       "grid_column": null,
       "grid_gap": null,
       "grid_row": null,
       "grid_template_areas": null,
       "grid_template_columns": null,
       "grid_template_rows": null,
       "height": null,
       "justify_content": null,
       "justify_items": null,
       "left": null,
       "margin": null,
       "max_height": null,
       "max_width": null,
       "min_height": null,
       "min_width": null,
       "object_fit": null,
       "object_position": null,
       "order": null,
       "overflow": null,
       "overflow_x": null,
       "overflow_y": null,
       "padding": null,
       "right": null,
       "top": null,
       "visibility": null,
       "width": null
      }
     },
     "d635c77ed61b4931af480927be268243": {
      "model_module": "@jupyter-widgets/controls",
      "model_module_version": "1.5.0",
      "model_name": "HTMLModel",
      "state": {
       "_dom_classes": [],
       "_model_module": "@jupyter-widgets/controls",
       "_model_module_version": "1.5.0",
       "_model_name": "HTMLModel",
       "_view_count": null,
       "_view_module": "@jupyter-widgets/controls",
       "_view_module_version": "1.5.0",
       "_view_name": "HTMLView",
       "description": "",
       "description_tooltip": null,
       "layout": "IPY_MODEL_946c6da1e1a14b129d0d6414511bdee7",
       "placeholder": "​",
       "style": "IPY_MODEL_fd75d3b0b6264b2fb6a7a9285e8e38ac",
       "value": " 501M/501M [00:06&lt;00:00, 79.2MB/s]"
      }
     },
     "d69a919d4dd943fc98dbfd112ed5db1d": {
      "model_module": "@jupyter-widgets/controls",
      "model_module_version": "1.5.0",
      "model_name": "HBoxModel",
      "state": {
       "_dom_classes": [],
       "_model_module": "@jupyter-widgets/controls",
       "_model_module_version": "1.5.0",
       "_model_name": "HBoxModel",
       "_view_count": null,
       "_view_module": "@jupyter-widgets/controls",
       "_view_module_version": "1.5.0",
       "_view_name": "HBoxView",
       "box_style": "",
       "children": [
        "IPY_MODEL_0ed4b93b4e7b4de984f32a555451c854",
        "IPY_MODEL_b428e215c16843e08415112c8970d611",
        "IPY_MODEL_1271c15b844e4330a204c3c2d468f0f8"
       ],
       "layout": "IPY_MODEL_a1f9a3aa0b3d4bf291e1ce662e0783a7"
      }
     },
     "e8512c90dc364e6198a5c4cf5dd9716a": {
      "model_module": "@jupyter-widgets/base",
      "model_module_version": "1.2.0",
      "model_name": "LayoutModel",
      "state": {
       "_model_module": "@jupyter-widgets/base",
       "_model_module_version": "1.2.0",
       "_model_name": "LayoutModel",
       "_view_count": null,
       "_view_module": "@jupyter-widgets/base",
       "_view_module_version": "1.2.0",
       "_view_name": "LayoutView",
       "align_content": null,
       "align_items": null,
       "align_self": null,
       "border": null,
       "bottom": null,
       "display": null,
       "flex": null,
       "flex_flow": null,
       "grid_area": null,
       "grid_auto_columns": null,
       "grid_auto_flow": null,
       "grid_auto_rows": null,
       "grid_column": null,
       "grid_gap": null,
       "grid_row": null,
       "grid_template_areas": null,
       "grid_template_columns": null,
       "grid_template_rows": null,
       "height": null,
       "justify_content": null,
       "justify_items": null,
       "left": null,
       "margin": null,
       "max_height": null,
       "max_width": null,
       "min_height": null,
       "min_width": null,
       "object_fit": null,
       "object_position": null,
       "order": null,
       "overflow": null,
       "overflow_x": null,
       "overflow_y": null,
       "padding": null,
       "right": null,
       "top": null,
       "visibility": null,
       "width": null
      }
     },
     "ea4e35a626904d8088fc10e9526a8890": {
      "model_module": "@jupyter-widgets/base",
      "model_module_version": "1.2.0",
      "model_name": "LayoutModel",
      "state": {
       "_model_module": "@jupyter-widgets/base",
       "_model_module_version": "1.2.0",
       "_model_name": "LayoutModel",
       "_view_count": null,
       "_view_module": "@jupyter-widgets/base",
       "_view_module_version": "1.2.0",
       "_view_name": "LayoutView",
       "align_content": null,
       "align_items": null,
       "align_self": null,
       "border": null,
       "bottom": null,
       "display": null,
       "flex": null,
       "flex_flow": null,
       "grid_area": null,
       "grid_auto_columns": null,
       "grid_auto_flow": null,
       "grid_auto_rows": null,
       "grid_column": null,
       "grid_gap": null,
       "grid_row": null,
       "grid_template_areas": null,
       "grid_template_columns": null,
       "grid_template_rows": null,
       "height": null,
       "justify_content": null,
       "justify_items": null,
       "left": null,
       "margin": null,
       "max_height": null,
       "max_width": null,
       "min_height": null,
       "min_width": null,
       "object_fit": null,
       "object_position": null,
       "order": null,
       "overflow": null,
       "overflow_x": null,
       "overflow_y": null,
       "padding": null,
       "right": null,
       "top": null,
       "visibility": null,
       "width": null
      }
     },
     "f1e7d9cf824d484eba2064beca868de6": {
      "model_module": "@jupyter-widgets/controls",
      "model_module_version": "1.5.0",
      "model_name": "DescriptionStyleModel",
      "state": {
       "_model_module": "@jupyter-widgets/controls",
       "_model_module_version": "1.5.0",
       "_model_name": "DescriptionStyleModel",
       "_view_count": null,
       "_view_module": "@jupyter-widgets/base",
       "_view_module_version": "1.2.0",
       "_view_name": "StyleView",
       "description_width": ""
      }
     },
     "f38fc5890fd944af8998e1bbfb4b090e": {
      "model_module": "@jupyter-widgets/controls",
      "model_module_version": "1.5.0",
      "model_name": "HBoxModel",
      "state": {
       "_dom_classes": [],
       "_model_module": "@jupyter-widgets/controls",
       "_model_module_version": "1.5.0",
       "_model_name": "HBoxModel",
       "_view_count": null,
       "_view_module": "@jupyter-widgets/controls",
       "_view_module_version": "1.5.0",
       "_view_name": "HBoxView",
       "box_style": "",
       "children": [
        "IPY_MODEL_4f63cad1d37041598665c675b1160b6a",
        "IPY_MODEL_2bf2e647ba6548988eef52db53ab55c7",
        "IPY_MODEL_f9fdff14f3954448b5b5001f0fb4a2fb"
       ],
       "layout": "IPY_MODEL_042b91a721f6468b897a8c2bcba80cbd"
      }
     },
     "f9fdff14f3954448b5b5001f0fb4a2fb": {
      "model_module": "@jupyter-widgets/controls",
      "model_module_version": "1.5.0",
      "model_name": "HTMLModel",
      "state": {
       "_dom_classes": [],
       "_model_module": "@jupyter-widgets/controls",
       "_model_module_version": "1.5.0",
       "_model_name": "HTMLModel",
       "_view_count": null,
       "_view_module": "@jupyter-widgets/controls",
       "_view_module_version": "1.5.0",
       "_view_name": "HTMLView",
       "description": "",
       "description_tooltip": null,
       "layout": "IPY_MODEL_8b702e52acc441be91e012c6a7628783",
       "placeholder": "​",
       "style": "IPY_MODEL_65e51c86371540049287e8ba6ba42262",
       "value": " 929/929 [00:00&lt;00:00, 55.9kB/s]"
      }
     },
     "fd75d3b0b6264b2fb6a7a9285e8e38ac": {
      "model_module": "@jupyter-widgets/controls",
      "model_module_version": "1.5.0",
      "model_name": "DescriptionStyleModel",
      "state": {
       "_model_module": "@jupyter-widgets/controls",
       "_model_module_version": "1.5.0",
       "_model_name": "DescriptionStyleModel",
       "_view_count": null,
       "_view_module": "@jupyter-widgets/base",
       "_view_module_version": "1.2.0",
       "_view_name": "StyleView",
       "description_width": ""
      }
     },
     "ffbfdcd6d31e479ba87099842785945f": {
      "model_module": "@jupyter-widgets/base",
      "model_module_version": "1.2.0",
      "model_name": "LayoutModel",
      "state": {
       "_model_module": "@jupyter-widgets/base",
       "_model_module_version": "1.2.0",
       "_model_name": "LayoutModel",
       "_view_count": null,
       "_view_module": "@jupyter-widgets/base",
       "_view_module_version": "1.2.0",
       "_view_name": "LayoutView",
       "align_content": null,
       "align_items": null,
       "align_self": null,
       "border": null,
       "bottom": null,
       "display": null,
       "flex": null,
       "flex_flow": null,
       "grid_area": null,
       "grid_auto_columns": null,
       "grid_auto_flow": null,
       "grid_auto_rows": null,
       "grid_column": null,
       "grid_gap": null,
       "grid_row": null,
       "grid_template_areas": null,
       "grid_template_columns": null,
       "grid_template_rows": null,
       "height": null,
       "justify_content": null,
       "justify_items": null,
       "left": null,
       "margin": null,
       "max_height": null,
       "max_width": null,
       "min_height": null,
       "min_width": null,
       "object_fit": null,
       "object_position": null,
       "order": null,
       "overflow": null,
       "overflow_x": null,
       "overflow_y": null,
       "padding": null,
       "right": null,
       "top": null,
       "visibility": null,
       "width": null
      }
     }
    },
    "version_major": 2,
    "version_minor": 0
   }
  }
 },
 "nbformat": 4,
 "nbformat_minor": 5
}
